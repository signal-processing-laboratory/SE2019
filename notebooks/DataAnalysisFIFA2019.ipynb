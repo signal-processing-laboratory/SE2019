{
 "cells": [
  {
   "cell_type": "markdown",
   "metadata": {
    "colab_type": "text",
    "id": "W6Na6_Jr5RTh"
   },
   "source": [
    "# Análise de Dados do banco de dados do FIFA 2019\n",
    "\n",
    "Autores: \n",
    "* Natanael Junior (natmourajr@lps.ufrj.br)\n",
    "* Vinicius Mello  (viniciusdsmello@poli.ufrj.br)\n",
    "* Pedro Lisboa (pedrohblisboa@gmail.com)\n",
    "\n",
    "LPS - Laboratório de Processamento de Sinais\n",
    "<center><img src=\"../data/logo_lps.jpg\"></center>"
   ]
  },
  {
   "cell_type": "code",
   "execution_count": 1,
   "metadata": {
    "colab": {
     "base_uri": "https://localhost:8080/",
     "height": 51
    },
    "colab_type": "code",
    "executionInfo": {
     "elapsed": 1055,
     "status": "ok",
     "timestamp": 1566738971817,
     "user": {
      "displayName": "Vinícius dos Santos Mello",
      "photoUrl": "https://lh3.googleusercontent.com/a-/AAuE7mCMU92CTJ8r37k0XpDTP5FIq6pAXFbhzP4zCo7K=s64",
      "userId": "08722001442659770764"
     },
     "user_tz": 180
    },
    "id": "5_gcdSTt5RTm",
    "outputId": "7adf4c69-68cb-42ef-8c97-2b080464efb5"
   },
   "outputs": [
    {
     "name": "stdout",
     "output_type": "stream",
     "text": [
      "CPU times: user 2 µs, sys: 1 µs, total: 3 µs\n",
      "Wall time: 5.01 µs\n"
     ]
    }
   ],
   "source": [
    "%time\n",
    "import os\n",
    "import numpy as np\n",
    "import pandas as pd\n",
    "import seaborn as sns\n",
    "\n",
    "import datetime\n",
    "\n",
    "from IPython.display import display, HTML\n",
    "\n",
    "from math import pi\n",
    "\n",
    "import matplotlib.pyplot as plt\n",
    "%matplotlib inline"
   ]
  },
  {
   "cell_type": "code",
   "execution_count": 2,
   "metadata": {
    "colab": {
     "base_uri": "https://localhost:8080/",
     "height": 68
    },
    "colab_type": "code",
    "executionInfo": {
     "elapsed": 1786,
     "status": "ok",
     "timestamp": 1566739135531,
     "user": {
      "displayName": "Vinícius dos Santos Mello",
      "photoUrl": "https://lh3.googleusercontent.com/a-/AAuE7mCMU92CTJ8r37k0XpDTP5FIq6pAXFbhzP4zCo7K=s64",
      "userId": "08722001442659770764"
     },
     "user_tz": 180
    },
    "id": "EPojwhUm7FtK",
    "outputId": "f9796fa2-7048-4410-e649-1384e3bbc323"
   },
   "outputs": [
    {
     "name": "stdout",
     "output_type": "stream",
     "text": [
      "02 - Análise de Dados - Dados Sintéticos.ipynb\n",
      "03 - Análise de Dados - Iris.ipynb\n",
      "05 - Classificação - Iris.ipynb\n",
      "06 - Regressão - Carros.ipynb\n",
      "07 - Agrupamento - Dados Sintéticos.ipynb\n",
      "08 - Agrupamento - Iris.ipynb\n",
      "DataAnalysisFIFA2019.ipynb\n",
      "Introdução ao Python.ipynb\n"
     ]
    }
   ],
   "source": [
    "ls"
   ]
  },
  {
   "cell_type": "code",
   "execution_count": 3,
   "metadata": {
    "colab": {
     "base_uri": "https://localhost:8080/",
     "height": 425
    },
    "colab_type": "code",
    "executionInfo": {
     "elapsed": 2167,
     "status": "error",
     "timestamp": 1566738972958,
     "user": {
      "displayName": "Vinícius dos Santos Mello",
      "photoUrl": "https://lh3.googleusercontent.com/a-/AAuE7mCMU92CTJ8r37k0XpDTP5FIq6pAXFbhzP4zCo7K=s64",
      "userId": "08722001442659770764"
     },
     "user_tz": 180
    },
    "id": "KFA30X0s5RTz",
    "outputId": "5528d950-eecc-4a8a-9168-8198c111017f"
   },
   "outputs": [
    {
     "name": "stdout",
     "output_type": "stream",
     "text": [
      "CPU times: user 4 µs, sys: 2 µs, total: 6 µs\n",
      "Wall time: 7.15 µs\n"
     ]
    }
   ],
   "source": [
    "%time\n",
    "df = pd.read_csv('../data/FIFA2019.csv')"
   ]
  },
  {
   "cell_type": "markdown",
   "metadata": {
    "colab_type": "text",
    "id": "3IAENrc75RT6"
   },
   "source": [
    "### Informações sobre o banco de dados\n",
    "Os dados foram retirados do site da sofifa.com usando um script de crawling em python. O site contém os dados do jogo FIFA da EA Sports e é atualizado regularmente conforme o lançamento de novas versões e atualizações do jogo. Os dados utilizados aqui foram extraídos no dia 24/01/2018 e se baseam na última versão do jogo FIFA (FIFA2019). Através de vários projetos de pesquisa feitos em análises de futebol, foi estabelecido no campo acadêmico e o uso de dados da franquia da FIFA tem diversas publicações. Desde 1995, os jogos da FIFA Soccer proporcionam um vasto e coerente conhecimento de jogadores em todo o mundo.\n",
    "\n",
    "Para cada atributo, temos um inteiro de 0 a 100 que mede a qualidade de um jogador nesse atributo. Exemplos de atributos são: drible, agressividade, visão, marcação e controle de bola. Observe que parece ser impraticável caracterizar com precisão os jogadores nesses atributos automaticamente. Assim, todos eles são reunidos e \"montados\" pela empresa cujo trabalho é aproximar o jogo da realidade, preservando assim a coerência e a representatividade em todo o conjunto de dados.\n",
    "\n",
    "O conjunto de dados fornece estatísticas de mais de 70 atributos diferentes. Esses atributos são, comprovadamente,  bons indicadores para determinar o desempenho de um jogador em uma determinada posição de jogo."
   ]
  },
  {
   "cell_type": "markdown",
   "metadata": {
    "colab_type": "text",
    "id": "_9oHuPiI5RT7"
   },
   "source": [
    "POSITION\n",
    "\n",
    "GK\tGoalkeeper\n",
    "\n",
    "RB\tRight Back\n",
    "\n",
    "CB\tCenter Back\n",
    "\n",
    "LB\tLeft Back\n",
    "\n",
    "RWB\tRight Wing Back\n",
    "\n",
    "LWB\tLeft Wing Back\n",
    "\n",
    "CDM\tCenter Defensive Midfielder\n",
    "\n",
    "CM\tCenter Midfielder\n",
    "\n",
    "CAM\tCenter Attacking Midfielder\n",
    "\n",
    "RM\tRight Midfielder\n",
    "\n",
    "LM\tLeft Midfielder\n",
    "\n",
    "RW\tRight Wing\n",
    "\n",
    "LW\tLeft Wing\n",
    "\n",
    "CF\tCenter Forward\n",
    "\n",
    "ST\tStriker"
   ]
  },
  {
   "cell_type": "markdown",
   "metadata": {
    "colab_type": "text",
    "id": "3INHffOY5RUB"
   },
   "source": [
    "<center><img src=\"../data/fifa_pos.jpg\"></center>"
   ]
  },
  {
   "cell_type": "code",
   "execution_count": null,
   "metadata": {
    "colab": {},
    "colab_type": "code",
    "id": "I8-0UUXk5RUD"
   },
   "outputs": [],
   "source": [
    "df.head()"
   ]
  },
  {
   "cell_type": "markdown",
   "metadata": {
    "colab_type": "text",
    "id": "Yff3cRTP5RUJ"
   },
   "source": [
    "Na coluna valor (value), o crawler pegou o valor com a moeda respectiva na frente. Vamos fazer a limpeza deste dado"
   ]
  },
  {
   "cell_type": "code",
   "execution_count": null,
   "metadata": {
    "colab": {},
    "colab_type": "code",
    "id": "oJdBZ3vY5RUK"
   },
   "outputs": [],
   "source": [
    "df['Value'].head()"
   ]
  },
  {
   "cell_type": "code",
   "execution_count": null,
   "metadata": {
    "colab": {},
    "colab_type": "code",
    "id": "bqlDXIKP5RUQ"
   },
   "outputs": [],
   "source": [
    "def value_to_int(df_value):\n",
    "    try:\n",
    "        value = float(df_value[1:-1])\n",
    "        suffix = df_value[-1:]\n",
    "\n",
    "        if suffix == 'M':\n",
    "            value = value * 1000000\n",
    "        elif suffix == 'K':\n",
    "            value = value * 1000\n",
    "    except ValueError:\n",
    "        value = 0\n",
    "    return value\n",
    "\n",
    "df['Value_float'] = df['Value'].apply(value_to_int)"
   ]
  },
  {
   "cell_type": "code",
   "execution_count": null,
   "metadata": {
    "colab": {},
    "colab_type": "code",
    "id": "CGh69xQZ5RUV"
   },
   "outputs": [],
   "source": [
    "import re\n",
    "df['Value'] = df['Value'].apply(lambda x: 'M' in x and \n",
    "                                int((re.findall('\\d+\\.*\\d*', x)[0] + '000000').replace('.', '')) \n",
    "                                or int((re.findall('\\d+\\.*\\d*', x)[0] + '000').replace('.', '')))"
   ]
  },
  {
   "cell_type": "code",
   "execution_count": null,
   "metadata": {
    "colab": {},
    "colab_type": "code",
    "id": "dqpnoG8_5RUf"
   },
   "outputs": [],
   "source": [
    "# limpando os dados\n",
    "df.drop([\"ID\",\"Unnamed: 0\",\"Flag\",\"Photo\",\"Club Logo\"],axis = 1,inplace = True)"
   ]
  },
  {
   "cell_type": "markdown",
   "metadata": {
    "colab_type": "text",
    "id": "u6AhqpBC5RUk"
   },
   "source": [
    "A função describe gera estatísticas descritivas que resumem a tendência central, a dispersão e a forma da distribuição de um conjunto de dados, excluindo os valores NaN (Not a Number).\n",
    "\n",
    "Analisa séries numéricas e de objetos, bem como conjuntos de colunas de um DataFrame, mesmo que este possua tipos de dados distintos. A saída irá variar dependendo do que é fornecido."
   ]
  },
  {
   "cell_type": "code",
   "execution_count": null,
   "metadata": {
    "colab": {},
    "colab_type": "code",
    "id": "_tOtv3sZ5RUn"
   },
   "outputs": [],
   "source": [
    "df.describe()"
   ]
  },
  {
   "cell_type": "markdown",
   "metadata": {
    "colab_type": "text",
    "id": "Dq9akahA5RUs"
   },
   "source": [
    "Função nunique: Retorna o número de elementos exclusivos em um DataFrame."
   ]
  },
  {
   "cell_type": "code",
   "execution_count": null,
   "metadata": {
    "colab": {},
    "colab_type": "code",
    "id": "fgG_Zaah5RUu"
   },
   "outputs": [],
   "source": [
    "df.nunique()"
   ]
  },
  {
   "cell_type": "code",
   "execution_count": null,
   "metadata": {
    "colab": {},
    "colab_type": "code",
    "id": "GL0qRsfL5RU0"
   },
   "outputs": [],
   "source": [
    "chosen_columns = [\n",
    "    'Name',\n",
    "    'Age',\n",
    "    'Nationality',\n",
    "    'Overall',\n",
    "    'Potential',\n",
    "    'Special',\n",
    "    'Acceleration',\n",
    "    'Aggression',\n",
    "    'Agility',\n",
    "    'Balance',\n",
    "    'BallControl',\n",
    "    'Body Type',\n",
    "    'Composure',\n",
    "    'Crossing',\n",
    "    'Curve',\n",
    "    'Club',\n",
    "    'Dribbling',\n",
    "    'FKAccuracy',\n",
    "    'Finishing',\n",
    "    'GKDiving',\n",
    "    'GKHandling',\n",
    "    'GKKicking',\n",
    "    'GKPositioning',\n",
    "    'GKReflexes',\n",
    "    'HeadingAccuracy',\n",
    "    'Interceptions',\n",
    "    'International Reputation',\n",
    "    'Jersey Number',\n",
    "    'Jumping',\n",
    "    'Joined',\n",
    "    'LongPassing',\n",
    "    'LongShots',\n",
    "    'Marking',\n",
    "    'Penalties',\n",
    "    'Position',\n",
    "    'Positioning',\n",
    "    'Preferred Foot',\n",
    "    'Reactions',\n",
    "    'ShortPassing',\n",
    "    'ShotPower',\n",
    "    'Skill Moves',\n",
    "    'SlidingTackle',\n",
    "    'SprintSpeed',\n",
    "    'Stamina',\n",
    "    'StandingTackle',\n",
    "    'Strength',\n",
    "    'Value',\n",
    "    'Vision',\n",
    "    'Volleys',\n",
    "    'Wage',\n",
    "    'Weak Foot',\n",
    "    'Work Rate'\n",
    "]"
   ]
  },
  {
   "cell_type": "code",
   "execution_count": null,
   "metadata": {
    "colab": {},
    "colab_type": "code",
    "id": "9TqI4jkf5RU-"
   },
   "outputs": [],
   "source": [
    "df1 = pd.DataFrame(df, columns = chosen_columns)"
   ]
  },
  {
   "cell_type": "code",
   "execution_count": null,
   "metadata": {
    "colab": {},
    "colab_type": "code",
    "id": "tTuiuMJr5RVD"
   },
   "outputs": [],
   "source": [
    "# Correlation heatmap\n",
    "plt.rcParams['figure.figsize']=(25,16)\n",
    "fig, ax = plt.subplots()\n",
    "\n",
    "hm=sns.heatmap(df[['Age', 'Overall', 'Potential', 'Value', 'Wage',\n",
    "                'Acceleration', 'Aggression', 'Agility', 'Balance', 'BallControl', \n",
    "                'Body Type','Composure', 'Crossing','Dribbling', 'FKAccuracy', 'Finishing', \n",
    "                'HeadingAccuracy', 'Interceptions','International Reputation',\n",
    "                'Joined', 'Jumping', 'LongPassing', 'LongShots',\n",
    "                'Marking', 'Penalties', 'Position', 'Positioning',\n",
    "                'ShortPassing', 'ShotPower', 'Skill Moves', 'SlidingTackle',\n",
    "                'SprintSpeed', 'Stamina', 'StandingTackle', 'Strength', 'Vision',\n",
    "                'Volleys']].corr(), annot = True, linewidths=.5, cmap='PuRd')\n",
    "hm.set_title(label='Heatmap of dataset', fontsize=20)\n",
    "hm;\n",
    "plt.savefig('mat.eps')"
   ]
  },
  {
   "cell_type": "markdown",
   "metadata": {
    "colab_type": "text",
    "id": "oRqlHKaU5RVK"
   },
   "source": [
    "Encontrar os top5 jogadores mais velhos"
   ]
  },
  {
   "cell_type": "code",
   "execution_count": null,
   "metadata": {
    "colab": {},
    "colab_type": "code",
    "id": "Qdl-nBH-5RVM"
   },
   "outputs": [],
   "source": [
    "eldest = df1.sort_values('Age', ascending = False)[['Name', 'Nationality', 'Age', 'Value']].head(5)\n",
    "eldest.set_index('Name', inplace=True)\n",
    "print(eldest)"
   ]
  },
  {
   "cell_type": "markdown",
   "metadata": {
    "colab_type": "text",
    "id": "ppUiRWSL5RVT"
   },
   "source": [
    "Encontrar os top5 jogadores mais novos"
   ]
  },
  {
   "cell_type": "code",
   "execution_count": null,
   "metadata": {
    "colab": {},
    "colab_type": "code",
    "id": "0U5gYTzl5RVV"
   },
   "outputs": [],
   "source": [
    "youngest = df1.sort_values('Age', ascending = True)[['Name', 'Nationality', 'Age', 'Value']].head(10)\n",
    "youngest.set_index('Name', inplace=True)\n",
    "print(youngest)"
   ]
  },
  {
   "cell_type": "markdown",
   "metadata": {
    "colab_type": "text",
    "id": "_MFSTFHN5RVg"
   },
   "source": [
    "O gráfico de violino é uma ferramenta muito útil na análise de dados e mostra a distribuição de dados quantitativos em vários níveis de uma (ou mais) variáveis categóricas, de modo que essas distribuições possam ser comparadas. Ao contrário de um boxplot, no qual todos os componentes do gráfico correspondem a pontos de dados reais, o gráfico do violino apresenta uma estimativa da função densidade de probabilidade.\n",
    "\n",
    "Essa pode ser uma maneira eficaz e atraente de exibir várias distribuições de dados de uma só vez, mas lembre-se de que o procedimento de estimativa é influenciado pelo tamanho da amostra, e os gráficos de violinos de amostras relativamente pequenas podem parecer enganosamente lisos."
   ]
  },
  {
   "cell_type": "code",
   "execution_count": null,
   "metadata": {
    "colab": {},
    "colab_type": "code",
    "id": "nMrOlms05RVi"
   },
   "outputs": [],
   "source": [
    "some_clubs = ('Juventus', 'Real Madrid', 'Paris Saint-Germain', 'FC Barcelona')\n",
    "df_club = df.loc[df['Club'].isin(some_clubs) & df['Age']]\n",
    "\n",
    "fig, ax = plt.subplots()\n",
    "fig.set_size_inches(20, 10)\n",
    "ax = sns.violinplot(x=\"Club\", y=\"Age\", data=df_club);\n",
    "ax.set_title(label='Distribution of age in some clubs', fontsize=20);"
   ]
  },
  {
   "cell_type": "markdown",
   "metadata": {
    "colab_type": "text",
    "id": "ZuJ9FY8o5RVo"
   },
   "source": [
    "Como o mercado do futebol é muito dinâmico, podemos medir o tempo de um jogador em determinado time em anos.\n",
    "Vamos fazer isso utilizando funções do pandas para filtrar o nosso banco de dados.\n",
    "\n",
    "Este comando pega o ano em que o jogador entrou no clube (Joined é um campo do banco de dados).\n",
    "```python\n",
    "df1.Joined.dropna().map(lambda x: x.split(',')[1].split(' ')[1])\n",
    "```\n",
    "\n",
    "Este comando retira os NaN da coluna\n",
    "```python\n",
    "dropna()\n",
    "```\n",
    "\n",
    "Este comando subtrai o ano atual do ano em que o jogador entrou no time\n",
    "```python\n",
    "(df1.Join_year.dropna().map(lambda x: now.year - int(x))).astype('int').dropna()\n",
    "```\n"
   ]
  },
  {
   "cell_type": "code",
   "execution_count": null,
   "metadata": {
    "colab": {},
    "colab_type": "code",
    "id": "l7E0GRUC5RVq"
   },
   "outputs": [],
   "source": [
    "now = datetime.datetime.now()\n",
    "df1['Join_year'] = df1.Joined.dropna().map(lambda x: x.split(',')[1].split(' ')[1])\n",
    "df1['Years_of_member'] = (df1.Join_year.dropna().map(lambda x: now.year - int(x))).astype('int').dropna()\n",
    "membership = df1[['Name', 'Club', 'Years_of_member']].sort_values(by = 'Years_of_member', ascending = False).dropna().head()\n",
    "membership.set_index('Name', inplace=True)\n",
    "membership"
   ]
  },
  {
   "cell_type": "markdown",
   "metadata": {
    "colab_type": "text",
    "id": "4B98tDqD5RVw"
   },
   "source": [
    "Análise dos top5 times com jogadores mais velhos"
   ]
  },
  {
   "cell_type": "code",
   "execution_count": null,
   "metadata": {
    "colab": {},
    "colab_type": "code",
    "id": "YgC_qBc05RVy"
   },
   "outputs": [],
   "source": [
    "print(df1.groupby(['Club'])['Age'].sum().sort_values(ascending = False).head(5))"
   ]
  },
  {
   "cell_type": "markdown",
   "metadata": {
    "colab_type": "text",
    "id": "AwFApoNo5RWh"
   },
   "source": [
    "Análise dos top5 times com jogadores mais novos"
   ]
  },
  {
   "cell_type": "code",
   "execution_count": null,
   "metadata": {
    "colab": {},
    "colab_type": "code",
    "id": "J5-osk455RWk"
   },
   "outputs": [],
   "source": [
    "df.groupby(['Club'])['Age'].sum().sort_values(ascending = True).head(5)"
   ]
  },
  {
   "cell_type": "markdown",
   "metadata": {
    "colab_type": "text",
    "id": "ZCaUDd165RWu"
   },
   "source": [
    "Agora vamos filtrar 4 times grandes do futebol mundial e mostrar seu Overall\n",
    "\n",
    "O comando abaixo acessa um grupo de linhas e colunas por rótulo(s) ou uma matriz booleana.\n",
    "```python\n",
    "df.loc()\n",
    "```\n"
   ]
  },
  {
   "cell_type": "code",
   "execution_count": null,
   "metadata": {
    "colab": {},
    "colab_type": "code",
    "id": "QOojBC3x5RWx"
   },
   "outputs": [],
   "source": [
    "fig = plt.figure(figsize=(10,10))\n",
    "some_clubs = ('Juventus', 'Real Madrid', 'Paris Saint-Germain', 'FC Barcelona')\n",
    "df_club = df.loc[df['Club'].isin(some_clubs) & df['Age'] & df['Overall'] ]\n",
    "\n",
    "ax = sns.barplot(x=df_club['Club'], y=df_club['Overall'], palette=\"rocket\");\n",
    "ax.set_title(label='Distribution overall in several clubs', fontsize=20);\n",
    "ax.grid()"
   ]
  },
  {
   "cell_type": "code",
   "execution_count": null,
   "metadata": {
    "colab": {},
    "colab_type": "code",
    "id": "xuEmk0D05RW2"
   },
   "outputs": [],
   "source": [
    "fig = plt.figure(figsize=(12,8))\n",
    "ax = sns.countplot(x = 'Position', data = df, palette = 'hls');\n",
    "ax.set_title(label='Count of players on the position', fontsize=20);"
   ]
  },
  {
   "cell_type": "code",
   "execution_count": null,
   "metadata": {
    "colab": {},
    "colab_type": "code",
    "id": "2zYGrFFf5RW8"
   },
   "outputs": [],
   "source": [
    "# The best player per position\n",
    "display(HTML(df.iloc[df.groupby(df['Position'])['Overall'].idxmax()][['Name', 'Position']].to_html(index=False)))"
   ]
  },
  {
   "cell_type": "code",
   "execution_count": null,
   "metadata": {
    "colab": {},
    "colab_type": "code",
    "id": "DRPYiPtb5RXF"
   },
   "outputs": [],
   "source": [
    "player_features = (\n",
    "    'Acceleration', 'Aggression', 'Agility', \n",
    "    'Balance', 'BallControl', 'Composure', \n",
    "    'Crossing', 'Dribbling', 'FKAccuracy', \n",
    "    'Finishing', 'GKDiving', 'GKHandling', \n",
    "    'GKKicking', 'GKPositioning', 'GKReflexes', \n",
    "    'HeadingAccuracy', 'Interceptions', 'Jumping', \n",
    "    'LongPassing', 'LongShots', 'Marking', 'Penalties'\n",
    ")\n",
    "\n",
    "for i, val in df.groupby(df['Position'])[player_features].mean().iterrows():\n",
    "    print('Position {}: {}, {}, {}, {}'.format(i, *tuple(val.nlargest(4).index)))"
   ]
  },
  {
   "cell_type": "code",
   "execution_count": null,
   "metadata": {
    "colab": {},
    "colab_type": "code",
    "id": "-RDQp7hO5RXM"
   },
   "outputs": [],
   "source": [
    "idx = 1\n",
    "fig = plt.figure(figsize=(15,45))\n",
    "fig.set_facecolor('White')\n",
    "for position_name, features in df.groupby(df['Position'])[player_features].mean().iterrows():\n",
    "    top_features = dict(features.nlargest(5))\n",
    "    \n",
    "    # number of variable\n",
    "    categories=top_features.keys()\n",
    "    N = len(categories)\n",
    "\n",
    "    # We are going to plot the first line of the data frame.\n",
    "    # But we need to repeat the first value to close the circular graph:\n",
    "    values = list(top_features.values())\n",
    "    values += values[:1]\n",
    "\n",
    "    # What will be the angle of each axis in the plot? (we divide the plot / number of variable)\n",
    "    angles = [n / float(N) * 2 * pi for n in range(N)]\n",
    "    angles += angles[:1]\n",
    "\n",
    "    # Initialise the spider plot\n",
    "    ax = plt.subplot(9, 3, idx, polar=True)\n",
    "\n",
    "    # Draw one axe per variable + add labels labels yet\n",
    "    plt.xticks(angles[:-1], categories, color='grey', size=8)\n",
    "\n",
    "    # Draw ylabels\n",
    "    ax.set_rlabel_position(0)\n",
    "    plt.yticks([25,50,75], [\"25\",\"50\",\"75\"], color=\"grey\", size=7)\n",
    "    plt.ylim(0,100)\n",
    "    \n",
    "    plt.subplots_adjust(hspace = 0.5)\n",
    "    \n",
    "    # Plot data\n",
    "    ax.plot(angles, values, linewidth=1, linestyle='solid')\n",
    "\n",
    "    # Fill area\n",
    "    ax.fill(angles, values, 'b', alpha=0.1)\n",
    "    \n",
    "    plt.title(position_name, size=11, y=1.1)\n",
    "    \n",
    "    idx += 1 "
   ]
  },
  {
   "cell_type": "code",
   "execution_count": null,
   "metadata": {
    "colab": {},
    "colab_type": "code",
    "id": "hSNRd3Rx5RXT"
   },
   "outputs": [],
   "source": [
    "df[df['Preferred Foot'] == 'Left'][['Name','Overall']].head(10)"
   ]
  },
  {
   "cell_type": "code",
   "execution_count": null,
   "metadata": {
    "colab": {},
    "colab_type": "code",
    "id": "mkY7FjCu5RXZ"
   },
   "outputs": [],
   "source": [
    "df[df['Preferred Foot'] == 'Right'][['Name','Overall']].head(10)"
   ]
  },
  {
   "cell_type": "code",
   "execution_count": null,
   "metadata": {
    "colab": {},
    "colab_type": "code",
    "id": "7Lk8AYR75RXi"
   },
   "outputs": [],
   "source": [
    "sns.lmplot(x = 'BallControl', y = 'Dribbling', data = df,\n",
    "          scatter_kws = {'alpha':0.1},\n",
    "          col = 'Preferred Foot');\n",
    "plt.savefig('scatter.eps')"
   ]
  },
  {
   "cell_type": "code",
   "execution_count": null,
   "metadata": {
    "colab": {},
    "colab_type": "code",
    "id": "fs_pKxp-5RXt"
   },
   "outputs": [],
   "source": [
    "clubs_coherency = pd.Series()\n",
    "for club, players in df.groupby(['Club'])['Nationality'].count().items():\n",
    "    coherency = df[df['Club'] == club].groupby(['Nationality'])['Club'].count().max() / players * 100\n",
    "    clubs_coherency[club] = coherency\n",
    "\n",
    "clubs_coherency.sort_values(ascending = False).head(10)"
   ]
  },
  {
   "cell_type": "code",
   "execution_count": null,
   "metadata": {
    "colab": {},
    "colab_type": "code",
    "id": "aM7YCwPf5RX1"
   },
   "outputs": [],
   "source": [
    "df.groupby(['Club'])['Nationality'].nunique().sort_values(ascending = False).head(10)"
   ]
  },
  {
   "cell_type": "code",
   "execution_count": null,
   "metadata": {
    "colab": {},
    "colab_type": "code",
    "id": "3vDR-ffB5RX5"
   },
   "outputs": [],
   "source": [
    "df.groupby(['Club'])['Nationality'].nunique().sort_values().head(10)"
   ]
  },
  {
   "cell_type": "code",
   "execution_count": null,
   "metadata": {
    "colab": {},
    "colab_type": "code",
    "id": "9ean-XIm5RX_"
   },
   "outputs": [],
   "source": [
    "plt.figure(figsize=(14,7))\n",
    "cmap = sns.cubehelix_palette(rot=.001, as_cmap=True)\n",
    "\n",
    "ax = sns.scatterplot(x='Crossing', y='Dribbling',\n",
    "                     hue='Finishing',\n",
    "                     palette='Reds', sizes=(1, 1),\n",
    "                     data=df)\n",
    "ax.set_title(label='Relation dribbling and crossing with respected finishing of players', fontsize=20);\n",
    "plt.savefig('drible.eps')"
   ]
  },
  {
   "cell_type": "code",
   "execution_count": null,
   "metadata": {
    "colab": {},
    "colab_type": "code",
    "id": "LrQ56cHg5RYI"
   },
   "outputs": [],
   "source": [
    "sns.jointplot(x=df['Dribbling'], y=df['Crossing'], kind=\"hex\", color=\"#4CB391\",height=10);"
   ]
  },
  {
   "cell_type": "code",
   "execution_count": null,
   "metadata": {
    "colab": {},
    "colab_type": "code",
    "id": "jHtLzD5l5RYN"
   },
   "outputs": [],
   "source": [
    "plt.figure(figsize=(10,8))\n",
    "value = df.Value_float\n",
    "ax = sns.regplot(x = value / 10000000, y = 'Overall', fit_reg = False, data = df);\n",
    "ax.set_title(label='Value vs. Overall', fontsize=20);\n",
    "ax.grid()"
   ]
  },
  {
   "cell_type": "code",
   "execution_count": null,
   "metadata": {
    "colab": {},
    "colab_type": "code",
    "id": "ihBnhtEg5RYT"
   },
   "outputs": [],
   "source": [
    "cmap = sns.cubehelix_palette(rot=-.2, as_cmap=True)\n",
    "\n",
    "sns.relplot(x=\"Age\", y=\"Potential\", hue=value/100000, \n",
    "            sizes=(40, 400), alpha=.5,height=6, data=df);"
   ]
  },
  {
   "cell_type": "code",
   "execution_count": null,
   "metadata": {
    "colab": {},
    "colab_type": "code",
    "id": "J2RyejJZ5RYa"
   },
   "outputs": [],
   "source": [
    "# getting top ten most popular countries\n",
    "top_ten_countries = df['Nationality'].value_counts().head(10).index.values\n",
    "top_ten_countries_data = df.loc[df['Nationality'].isin(top_ten_countries), :]\n",
    "\n",
    "sns.set(style=\"white\")\n",
    "plt.figure(figsize=(11, 8))\n",
    "p = sns.boxplot(x =\"Nationality\", y = \"Overall\", data = top_ten_countries_data)"
   ]
  },
  {
   "cell_type": "code",
   "execution_count": null,
   "metadata": {
    "colab": {},
    "colab_type": "code",
    "id": "ek1XLqo25RYj"
   },
   "outputs": [],
   "source": [
    "sns.set(style=\"white\")\n",
    "plt.figure(figsize=(11, 8))\n",
    "p = sns.boxplot(x = 'Nationality', y = 'Potential', data = top_ten_countries_data)"
   ]
  },
  {
   "cell_type": "code",
   "execution_count": null,
   "metadata": {
    "colab": {},
    "colab_type": "code",
    "id": "1MHLY42a5RYn"
   },
   "outputs": [],
   "source": [
    "plt.figure(figsize=(10, 8))\n",
    "p = sns.lineplot(x = 'Age', y = 'Overall', ci = None, data = df, label = 'Overall')\n",
    "p = sns.lineplot(x = 'Age', y = 'Potential', ci = None, data = df, label = 'Potential')\n",
    "p = plt.ylabel('Potential vs Overall')\n",
    "p = plt.legend(loc = 1)\n",
    "plt.grid()"
   ]
  },
  {
   "cell_type": "code",
   "execution_count": null,
   "metadata": {
    "colab": {},
    "colab_type": "code",
    "id": "xA2xd48g5RYu"
   },
   "outputs": [],
   "source": [
    "plt.figure(figsize=(10, 8))\n",
    "mean_value_per_age = df.groupby('Age')['Value'].mean()\n",
    "p = sns.barplot(x = mean_value_per_age.index, y = mean_value_per_age.values)\n",
    "p = plt.xticks(rotation=90)"
   ]
  },
  {
   "cell_type": "code",
   "execution_count": null,
   "metadata": {
    "colab": {},
    "colab_type": "code",
    "id": "u1OBtgBx5RYz"
   },
   "outputs": [],
   "source": [
    "avg_value_by_position = df.groupby('Position')['Value'].mean()\n",
    "plt.figure(figsize=(11,8))\n",
    "p = sns.boxplot(x = 'Position', y = 'Value', data = df)\n",
    "p = plt.xticks(rotation=90)\n",
    "p = plt.ylim(0, 200000000)"
   ]
  }
 ],
 "metadata": {
  "colab": {
   "collapsed_sections": [],
   "name": "DataAnalysisFIFA2019.ipynb",
   "provenance": [],
   "version": "0.3.2"
  },
  "kernelspec": {
   "display_name": "lps",
   "language": "python",
   "name": "lps"
  },
  "language_info": {
   "codemirror_mode": {
    "name": "ipython",
    "version": 2
   },
   "file_extension": ".py",
   "mimetype": "text/x-python",
   "name": "python",
   "nbconvert_exporter": "python",
   "pygments_lexer": "ipython2",
   "version": "2.7.12"
  }
 },
 "nbformat": 4,
 "nbformat_minor": 2
}
