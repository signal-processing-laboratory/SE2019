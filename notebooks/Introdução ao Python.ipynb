{
 "cells": [
  {
   "cell_type": "markdown",
   "metadata": {
    "colab_type": "text",
    "id": "0dUPEc5o3azp"
   },
   "source": [
    "# Introdução ao Python\n",
    "\n",
    "Notebook de Introdução a Linguagem de Programação Python\n",
    "\n",
    "\n",
    "Autores: \n",
    "* Natanael Junior (natmourajr@lps.ufrj.br)\n",
    "* Vinicius Mello  (viniciusdsmello@poli.ufrj.br)\n",
    "* Pedro Lisboa (pedrohblisboa@gmail.com)\n",
    "\n",
    "LPS - Laboratório de Processamento de Sinais\n",
    "![alt text](https://)\n",
    "<center><img src=\"../data/logo_lps.jpg\"></center>"
   ]
  },
  {
   "cell_type": "markdown",
   "metadata": {
    "colab_type": "text",
    "id": "bcP23axJ3az2"
   },
   "source": [
    "# Objetivos\n",
    "1 - Iniciar os usuários em python <br>\n",
    "2 - Mostrar exemplos <br>\n",
    "3 - Ser referência para futuras dúvidas"
   ]
  },
  {
   "cell_type": "code",
   "execution_count": 73,
   "metadata": {
    "colab": {
     "base_uri": "https://localhost:8080/",
     "height": 34
    },
    "colab_type": "code",
    "executionInfo": {
     "elapsed": 4961,
     "status": "ok",
     "timestamp": 1566738914704,
     "user": {
      "displayName": "Vinícius dos Santos Mello",
      "photoUrl": "https://lh3.googleusercontent.com/a-/AAuE7mCMU92CTJ8r37k0XpDTP5FIq6pAXFbhzP4zCo7K=s64",
      "userId": "08722001442659770764"
     },
     "user_tz": 180
    },
    "id": "VEQBkhsJ3a0A",
    "outputId": "abd79232-eaa4-4bce-db9d-031be5ced13c"
   },
   "outputs": [
    {
     "name": "stdout",
     "output_type": "stream",
     "text": [
      "10.0\n"
     ]
    }
   ],
   "source": [
    "print(10.0)"
   ]
  },
  {
   "cell_type": "code",
   "execution_count": 74,
   "metadata": {
    "colab": {
     "base_uri": "https://localhost:8080/",
     "height": 34
    },
    "colab_type": "code",
    "executionInfo": {
     "elapsed": 4928,
     "status": "ok",
     "timestamp": 1566738914713,
     "user": {
      "displayName": "Vinícius dos Santos Mello",
      "photoUrl": "https://lh3.googleusercontent.com/a-/AAuE7mCMU92CTJ8r37k0XpDTP5FIq6pAXFbhzP4zCo7K=s64",
      "userId": "08722001442659770764"
     },
     "user_tz": 180
    },
    "id": "A42jMDWJ3a0t",
    "outputId": "b8c7faa1-7df2-420f-af4d-23879e5b654e"
   },
   "outputs": [
    {
     "name": "stdout",
     "output_type": "stream",
     "text": [
      "Five is greater than two!\n"
     ]
    }
   ],
   "source": [
    "if 5 > 2:\n",
    "    print(\"Five is greater than two!\")"
   ]
  },
  {
   "cell_type": "code",
   "execution_count": 75,
   "metadata": {
    "colab": {
     "base_uri": "https://localhost:8080/",
     "height": 34
    },
    "colab_type": "code",
    "executionInfo": {
     "elapsed": 4911,
     "status": "ok",
     "timestamp": 1566738914715,
     "user": {
      "displayName": "Vinícius dos Santos Mello",
      "photoUrl": "https://lh3.googleusercontent.com/a-/AAuE7mCMU92CTJ8r37k0XpDTP5FIq6pAXFbhzP4zCo7K=s64",
      "userId": "08722001442659770764"
     },
     "user_tz": 180
    },
    "id": "ALxJ68923a1a",
    "outputId": "aa243bf3-00eb-4bcd-88b4-209e9350a8e5"
   },
   "outputs": [
    {
     "name": "stdout",
     "output_type": "stream",
     "text": [
      "5 Hello, World!\n"
     ]
    }
   ],
   "source": [
    "x = 5\n",
    "y = \"Hello, World!\"\n",
    "\n",
    "print(x,y)"
   ]
  },
  {
   "cell_type": "code",
   "execution_count": 76,
   "metadata": {
    "colab": {
     "base_uri": "https://localhost:8080/",
     "height": 34
    },
    "colab_type": "code",
    "executionInfo": {
     "elapsed": 4867,
     "status": "ok",
     "timestamp": 1566738914718,
     "user": {
      "displayName": "Vinícius dos Santos Mello",
      "photoUrl": "https://lh3.googleusercontent.com/a-/AAuE7mCMU92CTJ8r37k0XpDTP5FIq6pAXFbhzP4zCo7K=s64",
      "userId": "08722001442659770764"
     },
     "user_tz": 180
    },
    "id": "YrOIkbxc3a14",
    "outputId": "f5322661-7e0b-4036-ad85-fef0a5209d30"
   },
   "outputs": [
    {
     "name": "stdout",
     "output_type": "stream",
     "text": [
      "This is a comment.\n"
     ]
    }
   ],
   "source": [
    "#This is a comment.\n",
    "print(\"This is a comment.\")"
   ]
  },
  {
   "cell_type": "code",
   "execution_count": 77,
   "metadata": {
    "colab": {
     "base_uri": "https://localhost:8080/",
     "height": 34
    },
    "colab_type": "code",
    "executionInfo": {
     "elapsed": 4853,
     "status": "ok",
     "timestamp": 1566738914720,
     "user": {
      "displayName": "Vinícius dos Santos Mello",
      "photoUrl": "https://lh3.googleusercontent.com/a-/AAuE7mCMU92CTJ8r37k0XpDTP5FIq6pAXFbhzP4zCo7K=s64",
      "userId": "08722001442659770764"
     },
     "user_tz": 180
    },
    "id": "Drqj5AN13a2X",
    "outputId": "5dc1b85a-7e0a-4bf2-8966-7a2544162ca1"
   },
   "outputs": [
    {
     "name": "stdout",
     "output_type": "stream",
     "text": [
      "This is a comment.\n"
     ]
    }
   ],
   "source": [
    "\"\"\"\n",
    "This is a comment\n",
    "written in \n",
    "more than just one line\n",
    "\"\"\"\n",
    "print(\"This is a comment.\")"
   ]
  },
  {
   "cell_type": "markdown",
   "metadata": {
    "colab_type": "text",
    "id": "vhkIpczK3a21"
   },
   "source": [
    "# Variáveis em Python\n",
    "\n",
    "Variáveis são contêineres para armazenar valores de dados. <br>\n",
    "\n",
    "Ao contrário de outras linguagens de programação, o Python não possui comando para declarar uma variável.\n",
    "\n",
    "Uma variável é criada no momento em que você atribui um valor a ela."
   ]
  },
  {
   "cell_type": "code",
   "execution_count": 78,
   "metadata": {
    "colab": {
     "base_uri": "https://localhost:8080/",
     "height": 51
    },
    "colab_type": "code",
    "executionInfo": {
     "elapsed": 4772,
     "status": "ok",
     "timestamp": 1566738914722,
     "user": {
      "displayName": "Vinícius dos Santos Mello",
      "photoUrl": "https://lh3.googleusercontent.com/a-/AAuE7mCMU92CTJ8r37k0XpDTP5FIq6pAXFbhzP4zCo7K=s64",
      "userId": "08722001442659770764"
     },
     "user_tz": 180
    },
    "id": "x0vSsesd3a3B",
    "outputId": "9885ddb8-4276-4632-9a7f-4ada1c79cd02"
   },
   "outputs": [
    {
     "name": "stdout",
     "output_type": "stream",
     "text": [
      "5\n",
      "John\n"
     ]
    }
   ],
   "source": [
    "x = 5\n",
    "y = \"John\"\n",
    "print(x)\n",
    "print(y)"
   ]
  },
  {
   "cell_type": "code",
   "execution_count": 79,
   "metadata": {
    "colab": {
     "base_uri": "https://localhost:8080/",
     "height": 34
    },
    "colab_type": "code",
    "executionInfo": {
     "elapsed": 4760,
     "status": "ok",
     "timestamp": 1566738914723,
     "user": {
      "displayName": "Vinícius dos Santos Mello",
      "photoUrl": "https://lh3.googleusercontent.com/a-/AAuE7mCMU92CTJ8r37k0XpDTP5FIq6pAXFbhzP4zCo7K=s64",
      "userId": "08722001442659770764"
     },
     "user_tz": 180
    },
    "id": "Rb04aQEm3a4F",
    "outputId": "7ef9f647-b48c-4bb7-f836-f68ac52a32c7"
   },
   "outputs": [
    {
     "name": "stdout",
     "output_type": "stream",
     "text": [
      "Sally\n"
     ]
    }
   ],
   "source": [
    "x = 4 # x is of type int\n",
    "x = \"Sally\" # x is now of type str\n",
    "print(x)"
   ]
  },
  {
   "cell_type": "code",
   "execution_count": 80,
   "metadata": {
    "colab": {
     "base_uri": "https://localhost:8080/",
     "height": 51
    },
    "colab_type": "code",
    "executionInfo": {
     "elapsed": 4699,
     "status": "ok",
     "timestamp": 1566738914727,
     "user": {
      "displayName": "Vinícius dos Santos Mello",
      "photoUrl": "https://lh3.googleusercontent.com/a-/AAuE7mCMU92CTJ8r37k0XpDTP5FIq6pAXFbhzP4zCo7K=s64",
      "userId": "08722001442659770764"
     },
     "user_tz": 180
    },
    "id": "lvj9TNQR3a5i",
    "outputId": "c9839632-f4f7-44a2-8c3b-6c6c542c93cd"
   },
   "outputs": [
    {
     "name": "stdout",
     "output_type": "stream",
     "text": [
      "John\n",
      "John\n"
     ]
    }
   ],
   "source": [
    "x = \"John\"\n",
    "print(x)\n",
    "# is the same as\n",
    "x = 'John'\n",
    "print(x)"
   ]
  },
  {
   "cell_type": "markdown",
   "metadata": {
    "colab_type": "text",
    "id": "TavyvC_a3a6O"
   },
   "source": [
    "### Boas práticas em python\n",
    "\n",
    "Uma variável pode ter um nome abreviado (como x  ey) ou um nome mais descritivo (age, carname, total_volume). Regras para variáveis do Python:<br>\n",
    " 1 - Um nome de variável deve começar com uma letra ou o caractere de sublinhado<br>\n",
    " 2 - Um nome de variável não pode começar com um número<br>\n",
    " 3 - Um nome de variável só pode conter caracteres alfanuméricos e sublinhados (A-z, 0-9 e _)<br>\n",
    " 4 - Os nomes das variáveis fazem distinção entre maiúsculas e minúsculas (idade, idade e IDA são três variáveis diferentes)<br>"
   ]
  },
  {
   "cell_type": "code",
   "execution_count": 81,
   "metadata": {
    "colab": {
     "base_uri": "https://localhost:8080/",
     "height": 68
    },
    "colab_type": "code",
    "executionInfo": {
     "elapsed": 4685,
     "status": "ok",
     "timestamp": 1566738914729,
     "user": {
      "displayName": "Vinícius dos Santos Mello",
      "photoUrl": "https://lh3.googleusercontent.com/a-/AAuE7mCMU92CTJ8r37k0XpDTP5FIq6pAXFbhzP4zCo7K=s64",
      "userId": "08722001442659770764"
     },
     "user_tz": 180
    },
    "id": "Zc0FTnZT3a6a",
    "outputId": "31b68b08-853c-4875-c32d-50d1a23bd456"
   },
   "outputs": [
    {
     "name": "stdout",
     "output_type": "stream",
     "text": [
      "Orange\n",
      "Banana\n",
      "Cherry\n"
     ]
    }
   ],
   "source": [
    "x, y, z = \"Orange\", \"Banana\", \"Cherry\"\n",
    "print(x)\n",
    "print(y)\n",
    "print(z)"
   ]
  },
  {
   "cell_type": "code",
   "execution_count": 82,
   "metadata": {
    "colab": {
     "base_uri": "https://localhost:8080/",
     "height": 68
    },
    "colab_type": "code",
    "executionInfo": {
     "elapsed": 4634,
     "status": "ok",
     "timestamp": 1566738914731,
     "user": {
      "displayName": "Vinícius dos Santos Mello",
      "photoUrl": "https://lh3.googleusercontent.com/a-/AAuE7mCMU92CTJ8r37k0XpDTP5FIq6pAXFbhzP4zCo7K=s64",
      "userId": "08722001442659770764"
     },
     "user_tz": 180
    },
    "id": "iRkVAzvH3a7g",
    "outputId": "de4ae13b-d3e6-4b94-a1cd-a5e1884552a6"
   },
   "outputs": [
    {
     "name": "stdout",
     "output_type": "stream",
     "text": [
      "Orange\n",
      "Orange\n",
      "Orange\n"
     ]
    }
   ],
   "source": [
    "x = y = z = \"Orange\"\n",
    "print(x)\n",
    "print(y)\n",
    "print(z)"
   ]
  },
  {
   "cell_type": "code",
   "execution_count": 83,
   "metadata": {
    "colab": {
     "base_uri": "https://localhost:8080/",
     "height": 34
    },
    "colab_type": "code",
    "executionInfo": {
     "elapsed": 4621,
     "status": "ok",
     "timestamp": 1566738914732,
     "user": {
      "displayName": "Vinícius dos Santos Mello",
      "photoUrl": "https://lh3.googleusercontent.com/a-/AAuE7mCMU92CTJ8r37k0XpDTP5FIq6pAXFbhzP4zCo7K=s64",
      "userId": "08722001442659770764"
     },
     "user_tz": 180
    },
    "id": "rn7MqsHg3a8G",
    "outputId": "7ca1eeb9-76e2-41e9-c254-318ed1ebc92c"
   },
   "outputs": [
    {
     "name": "stdout",
     "output_type": "stream",
     "text": [
      "Python is awesome\n"
     ]
    }
   ],
   "source": [
    "x = \"awesome\"\n",
    "print(\"Python is \" + x)"
   ]
  },
  {
   "cell_type": "code",
   "execution_count": 84,
   "metadata": {
    "colab": {
     "base_uri": "https://localhost:8080/",
     "height": 34
    },
    "colab_type": "code",
    "executionInfo": {
     "elapsed": 4613,
     "status": "ok",
     "timestamp": 1566738914736,
     "user": {
      "displayName": "Vinícius dos Santos Mello",
      "photoUrl": "https://lh3.googleusercontent.com/a-/AAuE7mCMU92CTJ8r37k0XpDTP5FIq6pAXFbhzP4zCo7K=s64",
      "userId": "08722001442659770764"
     },
     "user_tz": 180
    },
    "id": "e1fVDh153a8k",
    "outputId": "9d708beb-1f23-4fae-e370-121a84dd4617"
   },
   "outputs": [
    {
     "name": "stdout",
     "output_type": "stream",
     "text": [
      "Python is awesome, 10, 100.2\n"
     ]
    }
   ],
   "source": [
    "x = \"awesome\"\n",
    "y = 10\n",
    "z = 100.2\n",
    "print(\"Python is %s, %i, %1.1f\"%(x,y,z))"
   ]
  },
  {
   "cell_type": "code",
   "execution_count": 85,
   "metadata": {
    "colab": {
     "base_uri": "https://localhost:8080/",
     "height": 34
    },
    "colab_type": "code",
    "executionInfo": {
     "elapsed": 4558,
     "status": "ok",
     "timestamp": 1566738914738,
     "user": {
      "displayName": "Vinícius dos Santos Mello",
      "photoUrl": "https://lh3.googleusercontent.com/a-/AAuE7mCMU92CTJ8r37k0XpDTP5FIq6pAXFbhzP4zCo7K=s64",
      "userId": "08722001442659770764"
     },
     "user_tz": 180
    },
    "id": "W-p7tsqv3a89",
    "outputId": "5d257447-2248-4e75-9f02-3a414405ef98"
   },
   "outputs": [
    {
     "name": "stdout",
     "output_type": "stream",
     "text": [
      "Python is awesome\n"
     ]
    }
   ],
   "source": [
    "x = \"Python is \"\n",
    "y = \"awesome\"\n",
    "z =  x + y\n",
    "print(z)"
   ]
  },
  {
   "cell_type": "code",
   "execution_count": 86,
   "metadata": {
    "colab": {
     "base_uri": "https://localhost:8080/",
     "height": 34
    },
    "colab_type": "code",
    "executionInfo": {
     "elapsed": 4543,
     "status": "ok",
     "timestamp": 1566738914739,
     "user": {
      "displayName": "Vinícius dos Santos Mello",
      "photoUrl": "https://lh3.googleusercontent.com/a-/AAuE7mCMU92CTJ8r37k0XpDTP5FIq6pAXFbhzP4zCo7K=s64",
      "userId": "08722001442659770764"
     },
     "user_tz": 180
    },
    "id": "b1L-HwsR3a9V",
    "outputId": "5854f4e8-6bf8-41f1-fdf3-09f7396a4ddf"
   },
   "outputs": [
    {
     "name": "stdout",
     "output_type": "stream",
     "text": [
      "15\n"
     ]
    }
   ],
   "source": [
    "x = 5\n",
    "y = 10\n",
    "print(x + y)"
   ]
  },
  {
   "cell_type": "code",
   "execution_count": 87,
   "metadata": {
    "colab": {
     "base_uri": "https://localhost:8080/",
     "height": 34
    },
    "colab_type": "code",
    "executionInfo": {
     "elapsed": 4477,
     "status": "ok",
     "timestamp": 1566738914740,
     "user": {
      "displayName": "Vinícius dos Santos Mello",
      "photoUrl": "https://lh3.googleusercontent.com/a-/AAuE7mCMU92CTJ8r37k0XpDTP5FIq6pAXFbhzP4zCo7K=s64",
      "userId": "08722001442659770764"
     },
     "user_tz": 180
    },
    "id": "gPMNhFnu3a9-",
    "outputId": "c2a3e216-d01e-429f-bba3-774f54dee0d0"
   },
   "outputs": [
    {
     "name": "stdout",
     "output_type": "stream",
     "text": [
      "0\n"
     ]
    }
   ],
   "source": [
    "x = 8\n",
    "y = 5\n",
    "print('%i'%(y/x))"
   ]
  },
  {
   "cell_type": "markdown",
   "metadata": {
    "colab_type": "text",
    "id": "qniD_TFv3a-a"
   },
   "source": [
    "### Tipos Numéricos em Python\n",
    "Existem três tipos numéricos no Python:\n",
    "\n",
    "int <br>\n",
    "float <br>\n",
    "complexo <br> <br>\n",
    "Variáveis de tipos numéricos são criadas quando você atribui um valor a elas!"
   ]
  },
  {
   "cell_type": "code",
   "execution_count": 88,
   "metadata": {
    "colab": {
     "base_uri": "https://localhost:8080/",
     "height": 0
    },
    "colab_type": "code",
    "executionInfo": {
     "elapsed": 4466,
     "status": "ok",
     "timestamp": 1566738914741,
     "user": {
      "displayName": "Vinícius dos Santos Mello",
      "photoUrl": "https://lh3.googleusercontent.com/a-/AAuE7mCMU92CTJ8r37k0XpDTP5FIq6pAXFbhzP4zCo7K=s64",
      "userId": "08722001442659770764"
     },
     "user_tz": 180
    },
    "id": "2AmINws-3a-k",
    "outputId": "0853f58b-469f-4086-9b8b-8fe107c76864"
   },
   "outputs": [
    {
     "name": "stdout",
     "output_type": "stream",
     "text": [
      "<class 'int'>\n",
      "<class 'float'>\n",
      "<class 'complex'>\n"
     ]
    }
   ],
   "source": [
    "x = 1    # int\n",
    "y = 2.8  # float\n",
    "z = 1j   # complex\n",
    "\n",
    "print(type(x))\n",
    "print(type(y))\n",
    "print(type(z))"
   ]
  },
  {
   "cell_type": "code",
   "execution_count": 89,
   "metadata": {
    "colab": {
     "base_uri": "https://localhost:8080/",
     "height": 0
    },
    "colab_type": "code",
    "executionInfo": {
     "elapsed": 4456,
     "status": "ok",
     "timestamp": 1566738914743,
     "user": {
      "displayName": "Vinícius dos Santos Mello",
      "photoUrl": "https://lh3.googleusercontent.com/a-/AAuE7mCMU92CTJ8r37k0XpDTP5FIq6pAXFbhzP4zCo7K=s64",
      "userId": "08722001442659770764"
     },
     "user_tz": 180
    },
    "id": "5wsIqXyv3a_L",
    "outputId": "26553d81-9a25-40c7-c52d-a80b1c343dde"
   },
   "outputs": [
    {
     "name": "stdout",
     "output_type": "stream",
     "text": [
      "<class 'int'>\n",
      "<class 'int'>\n",
      "<class 'int'>\n"
     ]
    }
   ],
   "source": [
    "x = 1\n",
    "y = 35656222554887711\n",
    "z = -3255522\n",
    "\n",
    "print(type(x))\n",
    "print(type(y))\n",
    "print(type(z))"
   ]
  },
  {
   "cell_type": "code",
   "execution_count": 90,
   "metadata": {
    "colab": {
     "base_uri": "https://localhost:8080/",
     "height": 0
    },
    "colab_type": "code",
    "executionInfo": {
     "elapsed": 4407,
     "status": "ok",
     "timestamp": 1566738914753,
     "user": {
      "displayName": "Vinícius dos Santos Mello",
      "photoUrl": "https://lh3.googleusercontent.com/a-/AAuE7mCMU92CTJ8r37k0XpDTP5FIq6pAXFbhzP4zCo7K=s64",
      "userId": "08722001442659770764"
     },
     "user_tz": 180
    },
    "id": "ShsSToJ-3a_n",
    "outputId": "02691c09-0e6e-47d2-efac-c8bc22a6bfd1"
   },
   "outputs": [
    {
     "name": "stdout",
     "output_type": "stream",
     "text": [
      "<class 'float'>\n",
      "<class 'float'>\n",
      "<class 'float'>\n"
     ]
    }
   ],
   "source": [
    "x = 1.10\n",
    "y = 1.0\n",
    "z = -35.59\n",
    "\n",
    "print(type(x))\n",
    "print(type(y))\n",
    "print(type(z))"
   ]
  },
  {
   "cell_type": "markdown",
   "metadata": {
    "colab_type": "text",
    "id": "8ByfeFqw3bAK"
   },
   "source": [
    "Float também pode ser um número científico com um \"e\" para indicar a potência de 10."
   ]
  },
  {
   "cell_type": "code",
   "execution_count": 91,
   "metadata": {
    "colab": {
     "base_uri": "https://localhost:8080/",
     "height": 0
    },
    "colab_type": "code",
    "executionInfo": {
     "elapsed": 4392,
     "status": "ok",
     "timestamp": 1566738914754,
     "user": {
      "displayName": "Vinícius dos Santos Mello",
      "photoUrl": "https://lh3.googleusercontent.com/a-/AAuE7mCMU92CTJ8r37k0XpDTP5FIq6pAXFbhzP4zCo7K=s64",
      "userId": "08722001442659770764"
     },
     "user_tz": 180
    },
    "id": "F7kHXWue3bAl",
    "outputId": "2cc5734e-2614-4588-aecd-0cc4a26fb2ac"
   },
   "outputs": [
    {
     "name": "stdout",
     "output_type": "stream",
     "text": [
      "<class 'float'>\n",
      "<class 'float'>\n",
      "<class 'float'>\n"
     ]
    }
   ],
   "source": [
    "x = 35e3\n",
    "y = 12E4\n",
    "z = -87.7e100\n",
    "\n",
    "print(type(x))\n",
    "print(type(y))\n",
    "print(type(z))"
   ]
  },
  {
   "cell_type": "markdown",
   "metadata": {
    "colab_type": "text",
    "id": "yVQkfDK33bCh"
   },
   "source": [
    "Números complexos são escritos com um \"j\" como a parte imaginária:"
   ]
  },
  {
   "cell_type": "code",
   "execution_count": 92,
   "metadata": {
    "colab": {
     "base_uri": "https://localhost:8080/",
     "height": 0
    },
    "colab_type": "code",
    "executionInfo": {
     "elapsed": 4325,
     "status": "ok",
     "timestamp": 1566738914756,
     "user": {
      "displayName": "Vinícius dos Santos Mello",
      "photoUrl": "https://lh3.googleusercontent.com/a-/AAuE7mCMU92CTJ8r37k0XpDTP5FIq6pAXFbhzP4zCo7K=s64",
      "userId": "08722001442659770764"
     },
     "user_tz": 180
    },
    "id": "1q8cgH0W3bC1",
    "outputId": "8d259498-376c-48ec-cd46-8886bc92ab70"
   },
   "outputs": [
    {
     "name": "stdout",
     "output_type": "stream",
     "text": [
      "<class 'complex'>\n",
      "<class 'complex'>\n",
      "<class 'complex'>\n"
     ]
    }
   ],
   "source": [
    "x = 3+5j\n",
    "y = 5j\n",
    "z = -5j\n",
    "\n",
    "print(type(x))\n",
    "print(type(y))\n",
    "print(type(z))"
   ]
  },
  {
   "cell_type": "markdown",
   "metadata": {
    "colab_type": "text",
    "id": "YeiKR0xu3bDT"
   },
   "source": [
    "Você pode converter de um tipo para outro com os métodos ```int()```, ```float()``` e ```complex()```:"
   ]
  },
  {
   "cell_type": "code",
   "execution_count": 93,
   "metadata": {
    "colab": {
     "base_uri": "https://localhost:8080/",
     "height": 0
    },
    "colab_type": "code",
    "executionInfo": {
     "elapsed": 4312,
     "status": "ok",
     "timestamp": 1566738914758,
     "user": {
      "displayName": "Vinícius dos Santos Mello",
      "photoUrl": "https://lh3.googleusercontent.com/a-/AAuE7mCMU92CTJ8r37k0XpDTP5FIq6pAXFbhzP4zCo7K=s64",
      "userId": "08722001442659770764"
     },
     "user_tz": 180
    },
    "id": "ZreYOe5s3bDc",
    "outputId": "69dbe8a7-a3e7-48cb-cfce-0569c1baf448"
   },
   "outputs": [
    {
     "name": "stdout",
     "output_type": "stream",
     "text": [
      "1.0\n",
      "2\n",
      "(1+0j)\n",
      "<class 'float'>\n",
      "<class 'int'>\n",
      "<class 'complex'>\n"
     ]
    }
   ],
   "source": [
    "x = 1 # int\n",
    "y = 2.8 # float\n",
    "z = 1j # complex\n",
    "\n",
    "#convert from int to float:\n",
    "a = float(x)\n",
    "\n",
    "#convert from float to int:\n",
    "b = int(y)\n",
    "\n",
    "#convert from int to complex:\n",
    "c = complex(x)\n",
    "\n",
    "print(a)\n",
    "print(b)\n",
    "print(c)\n",
    "\n",
    "print(type(a))\n",
    "print(type(b))\n",
    "print(type(c))"
   ]
  },
  {
   "cell_type": "code",
   "execution_count": 94,
   "metadata": {
    "colab": {
     "base_uri": "https://localhost:8080/",
     "height": 0
    },
    "colab_type": "code",
    "executionInfo": {
     "elapsed": 3406,
     "status": "ok",
     "timestamp": 1566738914760,
     "user": {
      "displayName": "Vinícius dos Santos Mello",
      "photoUrl": "https://lh3.googleusercontent.com/a-/AAuE7mCMU92CTJ8r37k0XpDTP5FIq6pAXFbhzP4zCo7K=s64",
      "userId": "08722001442659770764"
     },
     "user_tz": 180
    },
    "id": "UCenM_R83bDz",
    "outputId": "c2badef9-2cfd-4b65-da18-f5b856f45c96"
   },
   "outputs": [
    {
     "name": "stdout",
     "output_type": "stream",
     "text": [
      "a10\n"
     ]
    }
   ],
   "source": [
    "a = 10\n",
    "print('a'+str(a))"
   ]
  },
  {
   "cell_type": "markdown",
   "metadata": {
    "colab_type": "text",
    "id": "da5jaPF23bEd"
   },
   "source": [
    "O Python não possui uma função ```random()``` para fazer um número aleatório, mas possui um módulo interno chamado random que pode ser usado para fazer números aleatórios:"
   ]
  },
  {
   "cell_type": "code",
   "execution_count": 95,
   "metadata": {
    "colab": {
     "base_uri": "https://localhost:8080/",
     "height": 0
    },
    "colab_type": "code",
    "executionInfo": {
     "elapsed": 3340,
     "status": "ok",
     "timestamp": 1566738914761,
     "user": {
      "displayName": "Vinícius dos Santos Mello",
      "photoUrl": "https://lh3.googleusercontent.com/a-/AAuE7mCMU92CTJ8r37k0XpDTP5FIq6pAXFbhzP4zCo7K=s64",
      "userId": "08722001442659770764"
     },
     "user_tz": 180
    },
    "id": "s2lcPpt63bEk",
    "outputId": "b75bd373-6b64-4400-8fdf-e1b640d10869"
   },
   "outputs": [
    {
     "name": "stdout",
     "output_type": "stream",
     "text": [
      "8\n"
     ]
    }
   ],
   "source": [
    "import random\n",
    "\n",
    "print(random.randrange(1,10))"
   ]
  },
  {
   "cell_type": "markdown",
   "metadata": {
    "colab_type": "text",
    "id": "DTKE2qfJ3bFJ"
   },
   "source": [
    "Pode haver momentos em que você deseja especificar um tipo em uma variável. Isso pode ser feito com um conjuntos de funções de type casting (mudança de tipos). O Python é uma linguagem orientada a objetos e, como tal, usa classes para definir tipos de dados, incluindo seus tipos primitivos. <br>\n",
    "\n",
    "Casting em python é feito usando funções de construtor: <br>\n",
    "\n",
    "```int()``` - constrói um número inteiro a partir de um literal inteiro, um literal float (arredondando para baixo para o número inteiro anterior), ou uma string (fornecendo a string representa um número inteiro) <br>\n",
    "```float()``` - constrói um número float a partir de um literal inteiro, um literal float ou um literal string (desde que a string represente um float ou um inteiro)<br>\n",
    "```str()``` - constrói uma string a partir de uma ampla variedade de tipos de dados, incluindo strings, literais de inteiros e literais de float"
   ]
  },
  {
   "cell_type": "code",
   "execution_count": 96,
   "metadata": {
    "colab": {
     "base_uri": "https://localhost:8080/",
     "height": 0
    },
    "colab_type": "code",
    "executionInfo": {
     "elapsed": 3324,
     "status": "ok",
     "timestamp": 1566738914762,
     "user": {
      "displayName": "Vinícius dos Santos Mello",
      "photoUrl": "https://lh3.googleusercontent.com/a-/AAuE7mCMU92CTJ8r37k0XpDTP5FIq6pAXFbhzP4zCo7K=s64",
      "userId": "08722001442659770764"
     },
     "user_tz": 180
    },
    "id": "0GP0LBLr3bFS",
    "outputId": "ee626c49-f503-484b-f6cd-f9762fcc094a"
   },
   "outputs": [
    {
     "name": "stdout",
     "output_type": "stream",
     "text": [
      "1\n",
      "2\n",
      "3\n",
      "<class 'int'>\n",
      "<class 'int'>\n",
      "<class 'int'>\n"
     ]
    }
   ],
   "source": [
    "x = int(1)   # x will be 1\n",
    "y = int(2.8) # y will be 2\n",
    "z = int(\"3\") # z will be 3\n",
    "\n",
    "print(x)\n",
    "print(y)\n",
    "print(z)\n",
    "\n",
    "print(type(x))\n",
    "print(type(y))\n",
    "print(type(z))"
   ]
  },
  {
   "cell_type": "code",
   "execution_count": 97,
   "metadata": {
    "colab": {
     "base_uri": "https://localhost:8080/",
     "height": 0
    },
    "colab_type": "code",
    "executionInfo": {
     "elapsed": 3303,
     "status": "ok",
     "timestamp": 1566738914764,
     "user": {
      "displayName": "Vinícius dos Santos Mello",
      "photoUrl": "https://lh3.googleusercontent.com/a-/AAuE7mCMU92CTJ8r37k0XpDTP5FIq6pAXFbhzP4zCo7K=s64",
      "userId": "08722001442659770764"
     },
     "user_tz": 180
    },
    "id": "gsejQ0Rk3bHq",
    "outputId": "f9d89b21-63ec-4eff-dc54-ec40bef7aee2"
   },
   "outputs": [
    {
     "name": "stdout",
     "output_type": "stream",
     "text": [
      "(10+1j)\n"
     ]
    }
   ],
   "source": [
    "a = '10+1j'\n",
    "print(complex(a))"
   ]
  },
  {
   "cell_type": "code",
   "execution_count": 98,
   "metadata": {
    "colab": {
     "base_uri": "https://localhost:8080/",
     "height": 0
    },
    "colab_type": "code",
    "executionInfo": {
     "elapsed": 3262,
     "status": "ok",
     "timestamp": 1566738914766,
     "user": {
      "displayName": "Vinícius dos Santos Mello",
      "photoUrl": "https://lh3.googleusercontent.com/a-/AAuE7mCMU92CTJ8r37k0XpDTP5FIq6pAXFbhzP4zCo7K=s64",
      "userId": "08722001442659770764"
     },
     "user_tz": 180
    },
    "id": "Jqy_ahv33bIv",
    "outputId": "dcab1f07-ac55-48f9-c50a-4c557538a389"
   },
   "outputs": [
    {
     "name": "stdout",
     "output_type": "stream",
     "text": [
      "1.0\n",
      "2.8\n",
      "3.0\n",
      "4.2\n",
      "<class 'float'>\n",
      "<class 'float'>\n",
      "<class 'float'>\n",
      "<class 'float'>\n"
     ]
    }
   ],
   "source": [
    "x = float(1)     # x will be 1.0\n",
    "y = float(2.8)   # y will be 2.8\n",
    "z = float(\"3\")   # z will be 3.0\n",
    "w = float(\"4.2\") # w will be 4.2\n",
    "\n",
    "print(x)\n",
    "print(y)\n",
    "print(z)\n",
    "print(w)\n",
    "\n",
    "print(type(x))\n",
    "print(type(y))\n",
    "print(type(z))\n",
    "print(type(w))"
   ]
  },
  {
   "cell_type": "code",
   "execution_count": 99,
   "metadata": {
    "colab": {
     "base_uri": "https://localhost:8080/",
     "height": 0
    },
    "colab_type": "code",
    "executionInfo": {
     "elapsed": 3241,
     "status": "ok",
     "timestamp": 1566738914770,
     "user": {
      "displayName": "Vinícius dos Santos Mello",
      "photoUrl": "https://lh3.googleusercontent.com/a-/AAuE7mCMU92CTJ8r37k0XpDTP5FIq6pAXFbhzP4zCo7K=s64",
      "userId": "08722001442659770764"
     },
     "user_tz": 180
    },
    "id": "WzPPhrGl3bJk",
    "outputId": "558516eb-fefb-4337-95d9-da7898f0faf3"
   },
   "outputs": [
    {
     "name": "stdout",
     "output_type": "stream",
     "text": [
      "s1\n",
      "2\n",
      "3.0\n",
      "<class 'str'>\n",
      "<class 'str'>\n",
      "<class 'str'>\n"
     ]
    }
   ],
   "source": [
    "x = str(\"s1\") # x will be 's1'\n",
    "y = str(2)    # y will be '2'\n",
    "z = str(3.0)  # z will be '3.0'\n",
    "\n",
    "print(x)\n",
    "print(y)\n",
    "print(z)\n",
    "\n",
    "print(type(x))\n",
    "print(type(y))\n",
    "print(type(z))"
   ]
  },
  {
   "cell_type": "markdown",
   "metadata": {
    "colab_type": "text",
    "id": "pgvR2b2x3bMV"
   },
   "source": [
    "### Strings em Python\n"
   ]
  },
  {
   "cell_type": "code",
   "execution_count": 100,
   "metadata": {
    "colab": {
     "base_uri": "https://localhost:8080/",
     "height": 0
    },
    "colab_type": "code",
    "executionInfo": {
     "elapsed": 3215,
     "status": "ok",
     "timestamp": 1566738914771,
     "user": {
      "displayName": "Vinícius dos Santos Mello",
      "photoUrl": "https://lh3.googleusercontent.com/a-/AAuE7mCMU92CTJ8r37k0XpDTP5FIq6pAXFbhzP4zCo7K=s64",
      "userId": "08722001442659770764"
     },
     "user_tz": 180
    },
    "id": "Yivpfan63bMl",
    "outputId": "c63e142f-f2f2-4f93-a946-19e91ba3a614"
   },
   "outputs": [
    {
     "name": "stdout",
     "output_type": "stream",
     "text": [
      "Lorem ipsum dolor sit amet,\n",
      "consectetur adipiscing elit,\n",
      "sed do eiusmod tempor incididunt\n",
      "ut labore et dolore magna aliqua.\n"
     ]
    }
   ],
   "source": [
    "a = \"\"\"Lorem ipsum dolor sit amet,\n",
    "consectetur adipiscing elit,\n",
    "sed do eiusmod tempor incididunt\n",
    "ut labore et dolore magna aliqua.\"\"\"\n",
    "print(a)"
   ]
  },
  {
   "cell_type": "code",
   "execution_count": 101,
   "metadata": {
    "colab": {
     "base_uri": "https://localhost:8080/",
     "height": 0
    },
    "colab_type": "code",
    "executionInfo": {
     "elapsed": 3183,
     "status": "ok",
     "timestamp": 1566738914773,
     "user": {
      "displayName": "Vinícius dos Santos Mello",
      "photoUrl": "https://lh3.googleusercontent.com/a-/AAuE7mCMU92CTJ8r37k0XpDTP5FIq6pAXFbhzP4zCo7K=s64",
      "userId": "08722001442659770764"
     },
     "user_tz": 180
    },
    "id": "WleqRJFA3bN1",
    "outputId": "3fde09c0-49ef-4e1c-a308-5be7305d7056"
   },
   "outputs": [
    {
     "name": "stdout",
     "output_type": "stream",
     "text": [
      "Lorem ipsum dolor sit amet,\n",
      "consectetur adipiscing elit,\n",
      "sed do eiusmod tempor incididunt\n",
      "ut labore et dolore magna aliqua.\n"
     ]
    }
   ],
   "source": [
    "a = '''Lorem ipsum dolor sit amet,\n",
    "consectetur adipiscing elit,\n",
    "sed do eiusmod tempor incididunt\n",
    "ut labore et dolore magna aliqua.'''\n",
    "print(a)"
   ]
  },
  {
   "cell_type": "markdown",
   "metadata": {
    "colab_type": "text",
    "id": "qXzt7WWC3bOp"
   },
   "source": [
    "#### Strings são Arrays\n",
    "Como muitas outras linguagens de programação populares, as strings no Python são vectores de bytes representando caracteres de forma ordenada.\n",
    "\n",
    "No entanto, o Python não tem um tipo de dados de caractere, um único caractere é simplesmente uma string com um comprimento de 1. Os colchetes podem ser usados para acessar elementos da string."
   ]
  },
  {
   "cell_type": "code",
   "execution_count": 102,
   "metadata": {
    "colab": {
     "base_uri": "https://localhost:8080/",
     "height": 0
    },
    "colab_type": "code",
    "executionInfo": {
     "elapsed": 3158,
     "status": "ok",
     "timestamp": 1566738914774,
     "user": {
      "displayName": "Vinícius dos Santos Mello",
      "photoUrl": "https://lh3.googleusercontent.com/a-/AAuE7mCMU92CTJ8r37k0XpDTP5FIq6pAXFbhzP4zCo7K=s64",
      "userId": "08722001442659770764"
     },
     "user_tz": 180
    },
    "id": "-Q5eUF7b3bOv",
    "outputId": "631bf92c-1373-4609-e074-31bb7c2d84dc"
   },
   "outputs": [
    {
     "name": "stdout",
     "output_type": "stream",
     "text": [
      "H !\n",
      "ello,\n"
     ]
    }
   ],
   "source": [
    "a = \"Hello, World!\"\n",
    "print(a[0],a[-1])\n",
    "print(a[1:6])"
   ]
  },
  {
   "cell_type": "markdown",
   "metadata": {
    "colab_type": "text",
    "id": "ScLGQLn33bPO"
   },
   "source": [
    "O método ```strip()``` remove qualquer espaço em branco do começo ou do fim da string:"
   ]
  },
  {
   "cell_type": "code",
   "execution_count": 103,
   "metadata": {
    "colab": {
     "base_uri": "https://localhost:8080/",
     "height": 0
    },
    "colab_type": "code",
    "executionInfo": {
     "elapsed": 3103,
     "status": "ok",
     "timestamp": 1566738914776,
     "user": {
      "displayName": "Vinícius dos Santos Mello",
      "photoUrl": "https://lh3.googleusercontent.com/a-/AAuE7mCMU92CTJ8r37k0XpDTP5FIq6pAXFbhzP4zCo7K=s64",
      "userId": "08722001442659770764"
     },
     "user_tz": 180
    },
    "id": "E0rKGVhP3bPT",
    "outputId": "d0bed40d-3675-4b1c-eb10-a98ae7fbf3ab"
   },
   "outputs": [
    {
     "name": "stdout",
     "output_type": "stream",
     "text": [
      "Hello, World!\n"
     ]
    }
   ],
   "source": [
    "a = \"     Hello, World! \"\n",
    "print(a.strip()) # returns \"Hello, World!\""
   ]
  },
  {
   "cell_type": "markdown",
   "metadata": {
    "colab_type": "text",
    "id": "BCOtz7vY3bPo"
   },
   "source": [
    "O método ```len()```  retorna o tamanho de uma string:"
   ]
  },
  {
   "cell_type": "code",
   "execution_count": 104,
   "metadata": {
    "colab": {
     "base_uri": "https://localhost:8080/",
     "height": 0
    },
    "colab_type": "code",
    "executionInfo": {
     "elapsed": 3067,
     "status": "ok",
     "timestamp": 1566738914778,
     "user": {
      "displayName": "Vinícius dos Santos Mello",
      "photoUrl": "https://lh3.googleusercontent.com/a-/AAuE7mCMU92CTJ8r37k0XpDTP5FIq6pAXFbhzP4zCo7K=s64",
      "userId": "08722001442659770764"
     },
     "user_tz": 180
    },
    "id": "E35gHbnA3bPs",
    "outputId": "d3a66d68-d04a-4f4c-89a1-594aea00c2c4"
   },
   "outputs": [
    {
     "name": "stdout",
     "output_type": "stream",
     "text": [
      "13\n"
     ]
    }
   ],
   "source": [
    "a = \"Hello, World!\"\n",
    "print(len(a))"
   ]
  },
  {
   "cell_type": "markdown",
   "metadata": {
    "colab_type": "text",
    "id": "lpeo0bPe3bQD"
   },
   "source": [
    "O método ```lower()``` retorna a string em letras minúsculas:"
   ]
  },
  {
   "cell_type": "code",
   "execution_count": 105,
   "metadata": {
    "colab": {
     "base_uri": "https://localhost:8080/",
     "height": 0
    },
    "colab_type": "code",
    "executionInfo": {
     "elapsed": 3054,
     "status": "ok",
     "timestamp": 1566738914779,
     "user": {
      "displayName": "Vinícius dos Santos Mello",
      "photoUrl": "https://lh3.googleusercontent.com/a-/AAuE7mCMU92CTJ8r37k0XpDTP5FIq6pAXFbhzP4zCo7K=s64",
      "userId": "08722001442659770764"
     },
     "user_tz": 180
    },
    "id": "vVRyAtLH3bQH",
    "outputId": "067535ab-5f79-4373-8831-4d0a0b7b6219"
   },
   "outputs": [
    {
     "name": "stdout",
     "output_type": "stream",
     "text": [
      "hello, world!\n"
     ]
    }
   ],
   "source": [
    "a = \"Hello, World!\"\n",
    "print(a.lower())"
   ]
  },
  {
   "cell_type": "markdown",
   "metadata": {
    "colab_type": "text",
    "id": "P4SA_dRT3bQq"
   },
   "source": [
    "O método ```upper()``` retorna a string em letras maiúsculas:"
   ]
  },
  {
   "cell_type": "code",
   "execution_count": 106,
   "metadata": {
    "colab": {
     "base_uri": "https://localhost:8080/",
     "height": 0
    },
    "colab_type": "code",
    "executionInfo": {
     "elapsed": 3031,
     "status": "ok",
     "timestamp": 1566738914780,
     "user": {
      "displayName": "Vinícius dos Santos Mello",
      "photoUrl": "https://lh3.googleusercontent.com/a-/AAuE7mCMU92CTJ8r37k0XpDTP5FIq6pAXFbhzP4zCo7K=s64",
      "userId": "08722001442659770764"
     },
     "user_tz": 180
    },
    "id": "75nT7MtB3bRA",
    "outputId": "5a4b21e4-67c3-4b27-c048-28f9df55c209"
   },
   "outputs": [
    {
     "name": "stdout",
     "output_type": "stream",
     "text": [
      "HELLO, WORLD!\n"
     ]
    }
   ],
   "source": [
    "a = \"Hello, World!\"\n",
    "print(a.upper())"
   ]
  },
  {
   "cell_type": "markdown",
   "metadata": {
    "colab_type": "text",
    "id": "DZEJIFP23bRZ"
   },
   "source": [
    "O método ```capilatize()``` retorna a string com apenas a primeira letra maiúscula:"
   ]
  },
  {
   "cell_type": "code",
   "execution_count": 107,
   "metadata": {
    "colab": {
     "base_uri": "https://localhost:8080/",
     "height": 0
    },
    "colab_type": "code",
    "executionInfo": {
     "elapsed": 3000,
     "status": "ok",
     "timestamp": 1566738914781,
     "user": {
      "displayName": "Vinícius dos Santos Mello",
      "photoUrl": "https://lh3.googleusercontent.com/a-/AAuE7mCMU92CTJ8r37k0XpDTP5FIq6pAXFbhzP4zCo7K=s64",
      "userId": "08722001442659770764"
     },
     "user_tz": 180
    },
    "id": "8gteqyqH3bRh",
    "outputId": "76e7e259-17f1-495b-dddd-9a903fa4e0fb"
   },
   "outputs": [
    {
     "name": "stdout",
     "output_type": "stream",
     "text": [
      "Hello, world!\n"
     ]
    }
   ],
   "source": [
    "a = \"Hello, World!\"\n",
    "print(a.capitalize())"
   ]
  },
  {
   "cell_type": "markdown",
   "metadata": {
    "colab_type": "text",
    "id": "1PkLOWCw3bSI"
   },
   "source": [
    "O método ```replace()``` substitui uma string por outra string:"
   ]
  },
  {
   "cell_type": "code",
   "execution_count": 108,
   "metadata": {
    "colab": {
     "base_uri": "https://localhost:8080/",
     "height": 0
    },
    "colab_type": "code",
    "executionInfo": {
     "elapsed": 2986,
     "status": "ok",
     "timestamp": 1566738914782,
     "user": {
      "displayName": "Vinícius dos Santos Mello",
      "photoUrl": "https://lh3.googleusercontent.com/a-/AAuE7mCMU92CTJ8r37k0XpDTP5FIq6pAXFbhzP4zCo7K=s64",
      "userId": "08722001442659770764"
     },
     "user_tz": 180
    },
    "id": "qQ4Y7wQn3bSS",
    "outputId": "59aedd72-36e4-4c35-a828-67d1fbe11b87"
   },
   "outputs": [
    {
     "name": "stdout",
     "output_type": "stream",
     "text": [
      "Jello, World!\n",
      "Bye, World!\n"
     ]
    }
   ],
   "source": [
    "a = \"Hello, World!\"\n",
    "print(a.replace(\"H\", \"J\"))\n",
    "print(a.replace(\"Hello\", \"Bye\"))"
   ]
  },
  {
   "cell_type": "markdown",
   "metadata": {
    "colab_type": "text",
    "id": "0Nl1O3wF3bSk"
   },
   "source": [
    "O método ```split()``` divide a string em substrings se encontrar instâncias do separador:"
   ]
  },
  {
   "cell_type": "code",
   "execution_count": 109,
   "metadata": {
    "colab": {
     "base_uri": "https://localhost:8080/",
     "height": 0
    },
    "colab_type": "code",
    "executionInfo": {
     "elapsed": 2950,
     "status": "ok",
     "timestamp": 1566738914785,
     "user": {
      "displayName": "Vinícius dos Santos Mello",
      "photoUrl": "https://lh3.googleusercontent.com/a-/AAuE7mCMU92CTJ8r37k0XpDTP5FIq6pAXFbhzP4zCo7K=s64",
      "userId": "08722001442659770764"
     },
     "user_tz": 180
    },
    "id": "trz4UosG3bSq",
    "outputId": "10b42d13-269f-4189-d976-ce5841efa48a"
   },
   "outputs": [
    {
     "name": "stdout",
     "output_type": "stream",
     "text": [
      "['Hello', ' World!']\n"
     ]
    }
   ],
   "source": [
    "a = \"Hello, World!\"\n",
    "print(a.split(\",\")) # returns ['Hello', ' World!']"
   ]
  },
  {
   "cell_type": "markdown",
   "metadata": {
    "colab_type": "text",
    "id": "CbbaGALA3bTj"
   },
   "source": [
    "Use o método ```format()``` para inserir números em strings:"
   ]
  },
  {
   "cell_type": "code",
   "execution_count": 110,
   "metadata": {
    "colab": {
     "base_uri": "https://localhost:8080/",
     "height": 0
    },
    "colab_type": "code",
    "executionInfo": {
     "elapsed": 2922,
     "status": "ok",
     "timestamp": 1566738914788,
     "user": {
      "displayName": "Vinícius dos Santos Mello",
      "photoUrl": "https://lh3.googleusercontent.com/a-/AAuE7mCMU92CTJ8r37k0XpDTP5FIq6pAXFbhzP4zCo7K=s64",
      "userId": "08722001442659770764"
     },
     "user_tz": 180
    },
    "id": "V98RGKVf3bTo",
    "outputId": "114f7909-de58-4f43-bd21-782383380ba5"
   },
   "outputs": [
    {
     "name": "stdout",
     "output_type": "stream",
     "text": [
      "My name is John, and I am 36\n"
     ]
    }
   ],
   "source": [
    "age = 36\n",
    "txt = \"My name is John, and I am {}\"\n",
    "print(txt.format(age))"
   ]
  },
  {
   "cell_type": "code",
   "execution_count": 111,
   "metadata": {
    "colab": {
     "base_uri": "https://localhost:8080/",
     "height": 0
    },
    "colab_type": "code",
    "executionInfo": {
     "elapsed": 2885,
     "status": "ok",
     "timestamp": 1566738914790,
     "user": {
      "displayName": "Vinícius dos Santos Mello",
      "photoUrl": "https://lh3.googleusercontent.com/a-/AAuE7mCMU92CTJ8r37k0XpDTP5FIq6pAXFbhzP4zCo7K=s64",
      "userId": "08722001442659770764"
     },
     "user_tz": 180
    },
    "id": "bU68b5g33bT6",
    "outputId": "550f5adb-665f-40ad-9ffa-d2981bc7557e"
   },
   "outputs": [
    {
     "name": "stdout",
     "output_type": "stream",
     "text": [
      "I want to pay 49.95 dollars for 3 pieces of item 567.\n"
     ]
    }
   ],
   "source": [
    "quantity = 3\n",
    "itemno = 567\n",
    "price = 49.95\n",
    "myorder = \"I want to pay {2} dollars for {0} pieces of item {1}.\"\n",
    "print(myorder.format(quantity, itemno, price))"
   ]
  },
  {
   "cell_type": "markdown",
   "metadata": {
    "colab_type": "text",
    "id": "_YO4OgTa3bVO"
   },
   "source": [
    "#### Operadores Python\n",
    "Os operadores são usados para executar operações em variáveis e valores.\n",
    "\n",
    "O Python divide os operadores nos seguintes grupos:\n",
    "\n",
    "1 - Operadores aritméticos <br>\n",
    "2 - Operadores de atribuição <br>\n",
    "3 - Operadores de comparação <br>\n",
    "4 - Operadores lógicos <br>\n",
    "5 - Operadores de identidade <br>\n",
    "6 - Operadores de associação <br>\n",
    "7 - Operadores bit a bit <br>"
   ]
  },
  {
   "cell_type": "markdown",
   "metadata": {
    "colab_type": "text",
    "id": "wiag_NPq3bVU"
   },
   "source": [
    "##### 1 - Operadores aritméticos\n",
    "<table border=1 frame=void rules=rows>\n",
    "  <tr>\n",
    "    <th>Operador</th>\n",
    "    <th>Nome</th>\n",
    "    <th>Exemplo</th>\n",
    "  </tr>\n",
    "  \n",
    "  <tr>\n",
    "    <td>+</td>\n",
    "    <td>Adição</td>\n",
    "    <td>x+y</td>\n",
    "  </tr>\n",
    "  \n",
    "  <tr> \n",
    "   <td>-</td>\t\n",
    "   <td>Subtração</td>\n",
    "   <td>x-y</td>\t\n",
    "  </tr>\n",
    "  \n",
    "  <tr> \n",
    "   <td>*</td>\t\n",
    "   <td>Multiplicação</td>\n",
    "   <td>x*y</td>\t\n",
    "  </tr>\n",
    "      \n",
    "  <tr> \n",
    "   <td>%</td>\t\n",
    "   <td>Módulo</td>\n",
    "   <td>x%y</td>\t\n",
    "  </tr>\n",
    "  \n",
    "  <tr> \n",
    "   <td>**</td>\t\n",
    "   <td>Potência</td>\n",
    "   <td>x**y</td>\t\n",
    "  </tr>\n",
    "  \n",
    "  <tr> \n",
    "   <td>//</td>\t\n",
    "   <td>Divisão arrendondada para baixo</td>\n",
    "   <td>x//y</td>\t\n",
    "  </tr>\n",
    "  \n",
    "      \n",
    "</table>"
   ]
  },
  {
   "cell_type": "markdown",
   "metadata": {
    "colab_type": "text",
    "id": "vPBfiPp93bVY"
   },
   "source": [
    "##### 2 - Operadores de atribuição\n",
    "<table border=1 frame=void rules=rows>\n",
    "  <tr>\n",
    "    <th>Operador</th>\n",
    "    <th>Exemplo</th>\n",
    "    <th>Mesmo que</th>\n",
    "  </tr>\n",
    "  \n",
    "  <tr>\n",
    "    <td>=</td>\n",
    "    <td>x = 5</td>\n",
    "    <td>x = 5</td>\n",
    "  </tr>\n",
    "  \n",
    "  <tr>\n",
    "    <td>+=</td>\n",
    "    <td>x += 3</td>\n",
    "    <td>x = x + 3</td>\n",
    "  </tr>\n",
    "  \n",
    "  <tr>\n",
    "    <td>-=</td>\n",
    "    <td>x -= 3</td>\n",
    "    <td>x = x - 3</td>\n",
    "  </tr>\n",
    "  \n",
    "  <tr>\n",
    "    <td>*=</td>\n",
    "    <td>x *= 3</td>\n",
    "    <td>x = x * 3</td>\n",
    "  </tr>\n",
    "  \n",
    "  <tr>\n",
    "    <td>/=</td>\n",
    "    <td>x /= 3</td>\n",
    "    <td>x = x / 3</td>\n",
    "  </tr>\n",
    "  \n",
    "  <tr>\n",
    "    <td>%=</td>\n",
    "    <td>x %= 3</td>\n",
    "    <td>x = x % 3</td>\n",
    "  </tr>\n",
    "  \n",
    "  <tr>\n",
    "    <td>//=\t</td>\n",
    "    <td>x //= 3</td>\n",
    "    <td>x = x // 3</td>\n",
    "  </tr>\n",
    "  \n",
    "  <tr>\n",
    "    <td>**=</td>\n",
    "    <td>x **= 3</td>\n",
    "    <td>x = x ** 3</td>\n",
    "  </tr>\n",
    "  \n",
    "  <tr>\n",
    "    <td>&=</td>\n",
    "    <td>x &= 3</td>\n",
    "    <td>x = x & 3</td>\n",
    "  </tr>\n",
    "  \n",
    "  <tr>\n",
    "    <td>|=</td>\n",
    "    <td>x |= 3</td>\n",
    "    <td>x = x | 3</td>\n",
    "  </tr>\n",
    "  \n",
    "  <tr>\n",
    "    <td>^=</td>\n",
    "    <td>x ^= 3</td>\n",
    "    <td>x = x ^ 3</td>\n",
    "  </tr>\n",
    "  \n",
    "  <tr>\n",
    "    <td>>>=</td>\n",
    "    <td>x >>= 3</td>\n",
    "    <td>x = x >> 3</td>\n",
    "  </tr>\n",
    "  \n",
    "  <tr>\n",
    "    <td><<=</td>\n",
    "    <td>x <<= 3</td>\n",
    "    <td>x = x << 3</td>\n",
    "  </tr>\n",
    "      \n",
    "</table>"
   ]
  },
  {
   "cell_type": "markdown",
   "metadata": {
    "colab_type": "text",
    "id": "5WtAeuCz3bVd"
   },
   "source": [
    "##### 3 - Operadores de comparação\n",
    "<table border=1 frame=void rules=rows>\n",
    "  <tr>\n",
    "    <th>Operador</th>\n",
    "    <th>Nome</th>\n",
    "    <th>Exemplo</th>\n",
    "  </tr>\n",
    "  \n",
    "  <tr>\n",
    "    <td>==</td>\n",
    "    <td>Igualdade</td>\n",
    "    <td>x == y</td>\n",
    "  </tr>\n",
    "  \n",
    "  <tr>\n",
    "    <td>!=</td>\n",
    "    <td>Desigualdade</td>\n",
    "    <td>x != y</td>\n",
    "  </tr>\n",
    "  \n",
    "  <tr>\n",
    "    <td>></td>\n",
    "    <td>Maior que</td>\n",
    "    <td>x > y</td>\n",
    "  </tr>\n",
    "  \n",
    "  <tr>\n",
    "    <td><</td>\n",
    "    <td>Menor que</td>\n",
    "    <td>x < y</td>\n",
    "  </tr>\n",
    "  \n",
    "  <tr>\n",
    "    <td>>=</td>\n",
    "    <td>Maior ou igual que</td>\n",
    "    <td>x >= y</td>\n",
    "  </tr>\n",
    "  \n",
    "  <tr>\n",
    "    <td><=</td>\n",
    "    <td>Menor ou igual que</td>\n",
    "    <td>x <= y</td>\n",
    "  </tr>\n",
    "      \n",
    "</table>\n"
   ]
  },
  {
   "cell_type": "markdown",
   "metadata": {
    "colab_type": "text",
    "id": "fhcSPgKh3bVr"
   },
   "source": [
    "##### 4 - Operadores lógicos\n",
    "<table border=1 frame=void rules=rows>\n",
    "  <tr>\n",
    "    <th>Operador</th>\n",
    "    <th>Descrição</th>\n",
    "    <th>Exemplo</th>\n",
    "  </tr>\n",
    "  \n",
    "  <tr>\n",
    "    <td>and</td>\n",
    "    <td>Retorna True se ambos são verdadeiros</td>\n",
    "    <td>x < 5 and  x < 10 </td>\n",
    "  </tr>\n",
    "  \n",
    "  <tr>\n",
    "    <td>or</td>\n",
    "    <td>Retorna True se um for verdadeiro</td>\n",
    "    <td>x < 5 or  x < 10 </td>\n",
    "  </tr>\n",
    "  <tr>\n",
    "    <td>not</td>\n",
    "    <td>Inverte o resultado</td>\n",
    "    <td> not(x < 5) </td>\n",
    "  </tr>\n",
    "        \n",
    "</table>"
   ]
  },
  {
   "cell_type": "markdown",
   "metadata": {
    "colab_type": "text",
    "id": "n9ij1wE53bVv"
   },
   "source": [
    "##### 5 - Operadores de identidade\n",
    "<table border=1 frame=void rules=rows>\n",
    "  <tr>\n",
    "    <th>Operador</th>\n",
    "    <th>Descrição</th>\n",
    "    <th>Exemplo</th>\n",
    "  </tr>\n",
    "  \n",
    "  <tr>\n",
    "    <td>is</td>\n",
    "    <td>Retorna True se as variáveis são o mesmo objeto</td>\n",
    "    <td>x is y</td>\n",
    "  </tr>\n",
    "  \n",
    "  <tr>\n",
    "    <td>is not</td>\n",
    "    <td>Retorna True se as variáveis não são o mesmo objeto</td>\n",
    "    <td>x is not y </td>\n",
    "  </tr>\n",
    "        \n",
    "</table>"
   ]
  },
  {
   "cell_type": "markdown",
   "metadata": {
    "colab_type": "text",
    "id": "2x8N0__S3bV0"
   },
   "source": [
    "##### 6 - Operadores de associação\n",
    "<table border=1 frame=void rules=rows>\n",
    "  <tr>\n",
    "    <th>Operador</th>\n",
    "    <th>Descrição</th>\n",
    "    <th>Exemplo</th>\n",
    "  </tr>\n",
    "  \n",
    "  <tr>\n",
    "    <td>in</td>\n",
    "    <td>Retorna True se x está contido em y</td>\n",
    "    <td>x in y</td>\n",
    "  </tr>\n",
    "  \n",
    "  <tr>\n",
    "    <td>not in</td>\n",
    "    <td>Retorna True se x não está contido em y</td>\n",
    "    <td>x not in y </td>\n",
    "  </tr>\n",
    "        \n",
    "</table>"
   ]
  },
  {
   "cell_type": "markdown",
   "metadata": {
    "colab_type": "text",
    "id": "yO_PiaFw3bV6"
   },
   "source": [
    "##### 7 - Operadores bit a bit\n",
    "<table border=1 frame=void rules=rows>\n",
    "  <tr>\n",
    "    <th>Operador</th>\n",
    "    <th>Descrição</th>\n",
    "    <th>Exemplo</th>\n",
    "  </tr>\n",
    "  \n",
    "  <tr>\n",
    "    <td>&</td>\n",
    "    <td>And: Retorna 1 se cada um dos bits associados são 1</td>\n",
    "    <td>x and y</td>\n",
    "  </tr>\n",
    "  \n",
    "  <tr>\n",
    "    <td>|</td>\n",
    "    <td>Or: Retorna 1 se qualquer um dos bits associados são 1</td>\n",
    "    <td>x or y </td>\n",
    "  </tr>\n",
    "  \n",
    "  <tr>\n",
    "    <td>^</td>\n",
    "    <td>XOR: Retorna 1 se bits são contrarios entre si</td>\n",
    "    <td>x ^ y </td>\n",
    "  </tr>\n",
    "       \n",
    "  <tr>\n",
    "    <td>~</td>\n",
    "    <td>Not: já definido</td>\n",
    "    <td>x ~ y </td>\n",
    "  </tr>\n",
    "  \n",
    "  <tr>\n",
    "    <td><<</td>\n",
    "    <td>Shift y casas para a esquerda, adicionando <br>zeros da direita e deixe os bits mais significativos à esquerda</td>\n",
    "    <td>x << y </td>\n",
    "  </tr>\n",
    "  \n",
    "  <tr>\n",
    "    <td>>></td>\n",
    "    <td>Shift y casas para a direita, adicionando <br>zeros da esquerda e deixe os bits mais significativos à direita</td>\n",
    "    <td>x >> y </td>\n",
    "  </tr>\n",
    "  \n",
    "</table>"
   ]
  },
  {
   "cell_type": "code",
   "execution_count": 112,
   "metadata": {
    "colab": {
     "base_uri": "https://localhost:8080/",
     "height": 0
    },
    "colab_type": "code",
    "executionInfo": {
     "elapsed": 2831,
     "status": "ok",
     "timestamp": 1566738914792,
     "user": {
      "displayName": "Vinícius dos Santos Mello",
      "photoUrl": "https://lh3.googleusercontent.com/a-/AAuE7mCMU92CTJ8r37k0XpDTP5FIq6pAXFbhzP4zCo7K=s64",
      "userId": "08722001442659770764"
     },
     "user_tz": 180
    },
    "id": "Sjp47HSS3bV_",
    "outputId": "74e6a847-47ef-4735-9b38-942ad2debb8e"
   },
   "outputs": [
    {
     "name": "stdout",
     "output_type": "stream",
     "text": [
      "oi\n"
     ]
    }
   ],
   "source": [
    "a = 9\n",
    "\n",
    "if a != 10:\n",
    "    print('oi')"
   ]
  },
  {
   "cell_type": "markdown",
   "metadata": {
    "colab_type": "text",
    "id": "1yVzLJB33bXh"
   },
   "source": [
    "Existem quatro tipos de dados de coleção de dados na linguagem  Python:<br>\n",
    "\n",
    "```List``` é uma coleção ordenada e modificável. Permite membros duplicados. <br>\n",
    "```Tuple``` é uma coleção que é ordenada e imutável. Permite membros duplicados.<br>\n",
    "```Set``` é uma coleção desordenada e não indexada. Nenhum membro duplicado.<br>\n",
    "```Dicionário``` é uma coleção que é desordenada, alterável e indexada. Nenhum membro duplicado. <br>\n",
    "\n",
    "Ao escolher um tipo de coleção, é útil entender as propriedades desse tipo. Escolher o tipo certo para um determinado conjunto de dados pode significar retenção de significado e isso pode significar um aumento na eficiência ou segurança."
   ]
  },
  {
   "cell_type": "markdown",
   "metadata": {
    "colab_type": "text",
    "id": "2OmQVbS93bXn"
   },
   "source": [
    "Uma lista é uma coleção ordenada e modificável. Em listas do Python são escritas com colchetes."
   ]
  },
  {
   "cell_type": "code",
   "execution_count": 113,
   "metadata": {
    "colab": {
     "base_uri": "https://localhost:8080/",
     "height": 0
    },
    "colab_type": "code",
    "executionInfo": {
     "elapsed": 2799,
     "status": "ok",
     "timestamp": 1566738914793,
     "user": {
      "displayName": "Vinícius dos Santos Mello",
      "photoUrl": "https://lh3.googleusercontent.com/a-/AAuE7mCMU92CTJ8r37k0XpDTP5FIq6pAXFbhzP4zCo7K=s64",
      "userId": "08722001442659770764"
     },
     "user_tz": 180
    },
    "id": "0W5vdJNl3bXr",
    "outputId": "aab77384-cfcd-468b-b818-7efb6ce56d04"
   },
   "outputs": [
    {
     "name": "stdout",
     "output_type": "stream",
     "text": [
      "['apple', 'banana', 'cherry']\n"
     ]
    }
   ],
   "source": [
    "thislist = [\"apple\", \"banana\", \"cherry\"]\n",
    "print(thislist)"
   ]
  },
  {
   "cell_type": "code",
   "execution_count": 114,
   "metadata": {
    "colab": {
     "base_uri": "https://localhost:8080/",
     "height": 0
    },
    "colab_type": "code",
    "executionInfo": {
     "elapsed": 2770,
     "status": "ok",
     "timestamp": 1566738914795,
     "user": {
      "displayName": "Vinícius dos Santos Mello",
      "photoUrl": "https://lh3.googleusercontent.com/a-/AAuE7mCMU92CTJ8r37k0XpDTP5FIq6pAXFbhzP4zCo7K=s64",
      "userId": "08722001442659770764"
     },
     "user_tz": 180
    },
    "id": "_ZpkQQaO3bYk",
    "outputId": "39f45a79-d925-4129-b28f-0c2d20f5dadc"
   },
   "outputs": [
    {
     "name": "stdout",
     "output_type": "stream",
     "text": [
      "banana\n"
     ]
    }
   ],
   "source": [
    "thislist = [\"apple\", \"banana\", \"cherry\"]\n",
    "print(thislist[1])"
   ]
  },
  {
   "cell_type": "code",
   "execution_count": 115,
   "metadata": {
    "colab": {
     "base_uri": "https://localhost:8080/",
     "height": 0
    },
    "colab_type": "code",
    "executionInfo": {
     "elapsed": 2746,
     "status": "ok",
     "timestamp": 1566738914797,
     "user": {
      "displayName": "Vinícius dos Santos Mello",
      "photoUrl": "https://lh3.googleusercontent.com/a-/AAuE7mCMU92CTJ8r37k0XpDTP5FIq6pAXFbhzP4zCo7K=s64",
      "userId": "08722001442659770764"
     },
     "user_tz": 180
    },
    "id": "VnRrNqdI3bZB",
    "outputId": "19eb7e22-fc85-476b-972e-0f7b3b5a038a"
   },
   "outputs": [
    {
     "name": "stdout",
     "output_type": "stream",
     "text": [
      "['apple', 'blackcurrant', 'cherry']\n"
     ]
    }
   ],
   "source": [
    "thislist = [\"apple\", \"banana\", \"cherry\"]\n",
    "thislist[1] = \"blackcurrant\"\n",
    "print(thislist)"
   ]
  },
  {
   "cell_type": "code",
   "execution_count": 116,
   "metadata": {
    "colab": {
     "base_uri": "https://localhost:8080/",
     "height": 0
    },
    "colab_type": "code",
    "executionInfo": {
     "elapsed": 2700,
     "status": "ok",
     "timestamp": 1566738914798,
     "user": {
      "displayName": "Vinícius dos Santos Mello",
      "photoUrl": "https://lh3.googleusercontent.com/a-/AAuE7mCMU92CTJ8r37k0XpDTP5FIq6pAXFbhzP4zCo7K=s64",
      "userId": "08722001442659770764"
     },
     "user_tz": 180
    },
    "id": "B9Cr6dyE3bZX",
    "outputId": "d57a9b3c-c13a-4348-e7f0-8d81ee4e7560"
   },
   "outputs": [
    {
     "name": "stdout",
     "output_type": "stream",
     "text": [
      "apple\n",
      "banana\n",
      "cherry\n"
     ]
    }
   ],
   "source": [
    "thislist = [\"apple\", \"banana\", \"cherry\"]\n",
    "for x in thislist:\n",
    "    print(x)"
   ]
  },
  {
   "cell_type": "code",
   "execution_count": 117,
   "metadata": {
    "colab": {
     "base_uri": "https://localhost:8080/",
     "height": 0
    },
    "colab_type": "code",
    "executionInfo": {
     "elapsed": 2673,
     "status": "ok",
     "timestamp": 1566738914799,
     "user": {
      "displayName": "Vinícius dos Santos Mello",
      "photoUrl": "https://lh3.googleusercontent.com/a-/AAuE7mCMU92CTJ8r37k0XpDTP5FIq6pAXFbhzP4zCo7K=s64",
      "userId": "08722001442659770764"
     },
     "user_tz": 180
    },
    "id": "Djbjh9g13bZq",
    "outputId": "7dc90f35-950e-4252-c69c-e0c3c3c6db8c"
   },
   "outputs": [
    {
     "name": "stdout",
     "output_type": "stream",
     "text": [
      "Yes, 'apple' is in the fruits list\n"
     ]
    }
   ],
   "source": [
    "thislist = [\"apple\", \"banana\", \"cherry\"]\n",
    "if \"apple\" in thislist:\n",
    "    print(\"Yes, 'apple' is in the fruits list\")"
   ]
  },
  {
   "cell_type": "code",
   "execution_count": 118,
   "metadata": {
    "colab": {
     "base_uri": "https://localhost:8080/",
     "height": 0
    },
    "colab_type": "code",
    "executionInfo": {
     "elapsed": 2631,
     "status": "ok",
     "timestamp": 1566738914801,
     "user": {
      "displayName": "Vinícius dos Santos Mello",
      "photoUrl": "https://lh3.googleusercontent.com/a-/AAuE7mCMU92CTJ8r37k0XpDTP5FIq6pAXFbhzP4zCo7K=s64",
      "userId": "08722001442659770764"
     },
     "user_tz": 180
    },
    "id": "kU8t7njD3bZ-",
    "outputId": "06ba5df7-6754-4286-b3a8-9d7fe381e862"
   },
   "outputs": [
    {
     "name": "stdout",
     "output_type": "stream",
     "text": [
      "3\n"
     ]
    }
   ],
   "source": [
    "thislist = [\"apple\", \"banana\", \"cherry\"]\n",
    "print(len(thislist))"
   ]
  },
  {
   "cell_type": "code",
   "execution_count": 119,
   "metadata": {
    "colab": {
     "base_uri": "https://localhost:8080/",
     "height": 0
    },
    "colab_type": "code",
    "executionInfo": {
     "elapsed": 2619,
     "status": "ok",
     "timestamp": 1566738914805,
     "user": {
      "displayName": "Vinícius dos Santos Mello",
      "photoUrl": "https://lh3.googleusercontent.com/a-/AAuE7mCMU92CTJ8r37k0XpDTP5FIq6pAXFbhzP4zCo7K=s64",
      "userId": "08722001442659770764"
     },
     "user_tz": 180
    },
    "id": "U4Zu9tj73bai",
    "outputId": "bb3499f4-9b3b-4f32-c3e4-0e0c9ad4f538"
   },
   "outputs": [
    {
     "name": "stdout",
     "output_type": "stream",
     "text": [
      "['apple', 'banana', 'cherry', 'orange']\n"
     ]
    }
   ],
   "source": [
    "thislist = [\"apple\", \"banana\", \"cherry\"]\n",
    "thislist.append(\"orange\")\n",
    "print(thislist)"
   ]
  },
  {
   "cell_type": "code",
   "execution_count": 120,
   "metadata": {
    "colab": {
     "base_uri": "https://localhost:8080/",
     "height": 0
    },
    "colab_type": "code",
    "executionInfo": {
     "elapsed": 2605,
     "status": "ok",
     "timestamp": 1566738914807,
     "user": {
      "displayName": "Vinícius dos Santos Mello",
      "photoUrl": "https://lh3.googleusercontent.com/a-/AAuE7mCMU92CTJ8r37k0XpDTP5FIq6pAXFbhzP4zCo7K=s64",
      "userId": "08722001442659770764"
     },
     "user_tz": 180
    },
    "id": "9GZNyC6i3bbI",
    "outputId": "a9d940c4-5440-4c52-a91c-f0dd8374035f"
   },
   "outputs": [
    {
     "name": "stdout",
     "output_type": "stream",
     "text": [
      "['apple', 'orange', 'banana', 'cherry']\n"
     ]
    }
   ],
   "source": [
    "thislist = [\"apple\", \"banana\", \"cherry\"]\n",
    "thislist.insert(1, \"orange\")\n",
    "print(thislist)"
   ]
  },
  {
   "cell_type": "code",
   "execution_count": 121,
   "metadata": {
    "colab": {
     "base_uri": "https://localhost:8080/",
     "height": 0
    },
    "colab_type": "code",
    "executionInfo": {
     "elapsed": 2579,
     "status": "ok",
     "timestamp": 1566738914809,
     "user": {
      "displayName": "Vinícius dos Santos Mello",
      "photoUrl": "https://lh3.googleusercontent.com/a-/AAuE7mCMU92CTJ8r37k0XpDTP5FIq6pAXFbhzP4zCo7K=s64",
      "userId": "08722001442659770764"
     },
     "user_tz": 180
    },
    "id": "VAs1sFKj3bcl",
    "outputId": "af3b5d03-b442-4cc4-eac6-92eee020435d"
   },
   "outputs": [
    {
     "name": "stdout",
     "output_type": "stream",
     "text": [
      "['apple', 'cherry']\n"
     ]
    }
   ],
   "source": [
    "thislist = [\"apple\", \"banana\", \"cherry\"]\n",
    "thislist.remove(\"banana\")\n",
    "print(thislist)"
   ]
  },
  {
   "cell_type": "code",
   "execution_count": 122,
   "metadata": {
    "colab": {
     "base_uri": "https://localhost:8080/",
     "height": 0
    },
    "colab_type": "code",
    "executionInfo": {
     "elapsed": 2549,
     "status": "ok",
     "timestamp": 1566738914811,
     "user": {
      "displayName": "Vinícius dos Santos Mello",
      "photoUrl": "https://lh3.googleusercontent.com/a-/AAuE7mCMU92CTJ8r37k0XpDTP5FIq6pAXFbhzP4zCo7K=s64",
      "userId": "08722001442659770764"
     },
     "user_tz": 180
    },
    "id": "LfCNswrc3bgA",
    "outputId": "6ce7e8f3-c02a-4b19-f1ec-8c332a4e83bf"
   },
   "outputs": [
    {
     "name": "stdout",
     "output_type": "stream",
     "text": [
      "['apple', 'cherry']\n"
     ]
    }
   ],
   "source": [
    "thislist = [\"apple\", \"banana\", \"cherry\"]\n",
    "thislist.remove(\"banana\")\n",
    "print(thislist)"
   ]
  },
  {
   "cell_type": "code",
   "execution_count": 123,
   "metadata": {
    "colab": {
     "base_uri": "https://localhost:8080/",
     "height": 0
    },
    "colab_type": "code",
    "executionInfo": {
     "elapsed": 2520,
     "status": "ok",
     "timestamp": 1566738914812,
     "user": {
      "displayName": "Vinícius dos Santos Mello",
      "photoUrl": "https://lh3.googleusercontent.com/a-/AAuE7mCMU92CTJ8r37k0XpDTP5FIq6pAXFbhzP4zCo7K=s64",
      "userId": "08722001442659770764"
     },
     "user_tz": 180
    },
    "id": "RAtEvvx_3bgt",
    "outputId": "f61be8e4-394b-4014-b628-bbd6c00d177e"
   },
   "outputs": [
    {
     "name": "stdout",
     "output_type": "stream",
     "text": [
      "['apple', 'banana']\n"
     ]
    }
   ],
   "source": [
    "thislist = [\"apple\", \"banana\", \"cherry\"]\n",
    "thislist.pop()\n",
    "print(thislist)"
   ]
  },
  {
   "cell_type": "code",
   "execution_count": 124,
   "metadata": {
    "colab": {
     "base_uri": "https://localhost:8080/",
     "height": 0
    },
    "colab_type": "code",
    "executionInfo": {
     "elapsed": 2493,
     "status": "ok",
     "timestamp": 1566738914813,
     "user": {
      "displayName": "Vinícius dos Santos Mello",
      "photoUrl": "https://lh3.googleusercontent.com/a-/AAuE7mCMU92CTJ8r37k0XpDTP5FIq6pAXFbhzP4zCo7K=s64",
      "userId": "08722001442659770764"
     },
     "user_tz": 180
    },
    "id": "7ojbflbK3bhP",
    "outputId": "f638c50c-6bb9-403b-bd84-2d219719870a"
   },
   "outputs": [
    {
     "name": "stdout",
     "output_type": "stream",
     "text": [
      "['banana', 'cherry']\n"
     ]
    }
   ],
   "source": [
    "thislist = [\"apple\", \"banana\", \"cherry\"]\n",
    "del thislist[0]\n",
    "print(thislist)"
   ]
  },
  {
   "cell_type": "code",
   "execution_count": 125,
   "metadata": {
    "colab": {
     "base_uri": "https://localhost:8080/",
     "height": 0
    },
    "colab_type": "code",
    "executionInfo": {
     "elapsed": 2461,
     "status": "ok",
     "timestamp": 1566738914814,
     "user": {
      "displayName": "Vinícius dos Santos Mello",
      "photoUrl": "https://lh3.googleusercontent.com/a-/AAuE7mCMU92CTJ8r37k0XpDTP5FIq6pAXFbhzP4zCo7K=s64",
      "userId": "08722001442659770764"
     },
     "user_tz": 180
    },
    "id": "ENvN5JH93bhj",
    "outputId": "ced20bc9-ffdc-45f4-8d66-ac017b4b344d"
   },
   "outputs": [
    {
     "name": "stdout",
     "output_type": "stream",
     "text": [
      "[]\n"
     ]
    }
   ],
   "source": [
    "thislist = [\"apple\", \"banana\", \"cherry\"]\n",
    "thislist.clear()\n",
    "print(thislist)"
   ]
  },
  {
   "cell_type": "code",
   "execution_count": 126,
   "metadata": {
    "colab": {
     "base_uri": "https://localhost:8080/",
     "height": 0
    },
    "colab_type": "code",
    "executionInfo": {
     "elapsed": 2437,
     "status": "ok",
     "timestamp": 1566738914816,
     "user": {
      "displayName": "Vinícius dos Santos Mello",
      "photoUrl": "https://lh3.googleusercontent.com/a-/AAuE7mCMU92CTJ8r37k0XpDTP5FIq6pAXFbhzP4zCo7K=s64",
      "userId": "08722001442659770764"
     },
     "user_tz": 180
    },
    "id": "cKD9ly6s3bh0",
    "outputId": "0665b54e-823b-4b62-917d-8dc99b0dba88"
   },
   "outputs": [
    {
     "name": "stdout",
     "output_type": "stream",
     "text": [
      "['apple', 'banana', 'cherry']\n"
     ]
    }
   ],
   "source": [
    "thislist = [\"apple\", \"banana\", \"cherry\"]\n",
    "mylist = thislist.copy()\n",
    "print(mylist)"
   ]
  },
  {
   "cell_type": "markdown",
   "metadata": {
    "colab_type": "text",
    "id": "m84Ox0F43biF"
   },
   "source": [
    "Um dicionário é uma coleção não ordenada, modificável e indexada. Em Python, os dicionários são escritos com chaves e possuem chaves e valores."
   ]
  },
  {
   "cell_type": "code",
   "execution_count": 127,
   "metadata": {
    "colab": {
     "base_uri": "https://localhost:8080/",
     "height": 0
    },
    "colab_type": "code",
    "executionInfo": {
     "elapsed": 2412,
     "status": "ok",
     "timestamp": 1566738914819,
     "user": {
      "displayName": "Vinícius dos Santos Mello",
      "photoUrl": "https://lh3.googleusercontent.com/a-/AAuE7mCMU92CTJ8r37k0XpDTP5FIq6pAXFbhzP4zCo7K=s64",
      "userId": "08722001442659770764"
     },
     "user_tz": 180
    },
    "id": "3OEd-sOQ3biM",
    "outputId": "7385e5f0-303c-4fe1-e1aa-ee246c9c8b58"
   },
   "outputs": [
    {
     "name": "stdout",
     "output_type": "stream",
     "text": [
      "{'brand': 'Ford', 'model': 'Mustang', 'year': 1964}\n"
     ]
    }
   ],
   "source": [
    "thisdict =\t{\n",
    "  \"brand\": \"Ford\",\n",
    "  \"model\": \"Mustang\",\n",
    "  \"year\": 1964\n",
    "}\n",
    "print(thisdict)"
   ]
  },
  {
   "cell_type": "code",
   "execution_count": 128,
   "metadata": {
    "colab": {
     "base_uri": "https://localhost:8080/",
     "height": 0
    },
    "colab_type": "code",
    "executionInfo": {
     "elapsed": 2373,
     "status": "ok",
     "timestamp": 1566738914821,
     "user": {
      "displayName": "Vinícius dos Santos Mello",
      "photoUrl": "https://lh3.googleusercontent.com/a-/AAuE7mCMU92CTJ8r37k0XpDTP5FIq6pAXFbhzP4zCo7K=s64",
      "userId": "08722001442659770764"
     },
     "user_tz": 180
    },
    "id": "kaGRbT0j3bif",
    "outputId": "f9a822b3-61b7-4151-c67f-73e39d1aab5a"
   },
   "outputs": [
    {
     "name": "stdout",
     "output_type": "stream",
     "text": [
      "Mustang\n"
     ]
    }
   ],
   "source": [
    "x = thisdict[\"model\"]\n",
    "print(x)"
   ]
  },
  {
   "cell_type": "code",
   "execution_count": 129,
   "metadata": {
    "colab": {
     "base_uri": "https://localhost:8080/",
     "height": 0
    },
    "colab_type": "code",
    "executionInfo": {
     "elapsed": 2342,
     "status": "ok",
     "timestamp": 1566738914822,
     "user": {
      "displayName": "Vinícius dos Santos Mello",
      "photoUrl": "https://lh3.googleusercontent.com/a-/AAuE7mCMU92CTJ8r37k0XpDTP5FIq6pAXFbhzP4zCo7K=s64",
      "userId": "08722001442659770764"
     },
     "user_tz": 180
    },
    "id": "l-fuRFRR3bi1",
    "outputId": "8d728a04-d9a2-4f8a-e27a-1c23b124f5d7"
   },
   "outputs": [
    {
     "name": "stdout",
     "output_type": "stream",
     "text": [
      "Mustang\n"
     ]
    }
   ],
   "source": [
    "x = thisdict.get(\"model\")\n",
    "print(x)"
   ]
  },
  {
   "cell_type": "code",
   "execution_count": 130,
   "metadata": {
    "colab": {
     "base_uri": "https://localhost:8080/",
     "height": 0
    },
    "colab_type": "code",
    "executionInfo": {
     "elapsed": 2301,
     "status": "ok",
     "timestamp": 1566738914824,
     "user": {
      "displayName": "Vinícius dos Santos Mello",
      "photoUrl": "https://lh3.googleusercontent.com/a-/AAuE7mCMU92CTJ8r37k0XpDTP5FIq6pAXFbhzP4zCo7K=s64",
      "userId": "08722001442659770764"
     },
     "user_tz": 180
    },
    "id": "rHljGH3x3bjI",
    "outputId": "ed2aae8d-7a17-4d34-abbb-f9e6012d7640"
   },
   "outputs": [
    {
     "name": "stdout",
     "output_type": "stream",
     "text": [
      "{'brand': 'Ford', 'model': 'Mustang', 'year': 2018}\n"
     ]
    }
   ],
   "source": [
    "thisdict =\t{\n",
    "  \"brand\": \"Ford\",\n",
    "  \"model\": \"Mustang\",\n",
    "  \"year\": 1964\n",
    "}\n",
    "thisdict[\"year\"] = 2018\n",
    "print(thisdict)"
   ]
  },
  {
   "cell_type": "code",
   "execution_count": 131,
   "metadata": {
    "colab": {
     "base_uri": "https://localhost:8080/",
     "height": 0
    },
    "colab_type": "code",
    "executionInfo": {
     "elapsed": 2253,
     "status": "ok",
     "timestamp": 1566738914825,
     "user": {
      "displayName": "Vinícius dos Santos Mello",
      "photoUrl": "https://lh3.googleusercontent.com/a-/AAuE7mCMU92CTJ8r37k0XpDTP5FIq6pAXFbhzP4zCo7K=s64",
      "userId": "08722001442659770764"
     },
     "user_tz": 180
    },
    "id": "j9qZPrkp3bjY",
    "outputId": "1a514d87-afc3-4166-e637-cbd304e20c57"
   },
   "outputs": [
    {
     "name": "stdout",
     "output_type": "stream",
     "text": [
      "brand\n",
      "model\n",
      "year\n"
     ]
    }
   ],
   "source": [
    "for x in thisdict:\n",
    "    print(x)"
   ]
  },
  {
   "cell_type": "code",
   "execution_count": 132,
   "metadata": {
    "colab": {
     "base_uri": "https://localhost:8080/",
     "height": 0
    },
    "colab_type": "code",
    "executionInfo": {
     "elapsed": 2240,
     "status": "ok",
     "timestamp": 1566738914827,
     "user": {
      "displayName": "Vinícius dos Santos Mello",
      "photoUrl": "https://lh3.googleusercontent.com/a-/AAuE7mCMU92CTJ8r37k0XpDTP5FIq6pAXFbhzP4zCo7K=s64",
      "userId": "08722001442659770764"
     },
     "user_tz": 180
    },
    "id": "IJFXFETt3bjq",
    "outputId": "3766032c-f6ca-4059-ee23-35e4c42c2fd4"
   },
   "outputs": [
    {
     "name": "stdout",
     "output_type": "stream",
     "text": [
      "Ford\n",
      "Mustang\n",
      "2018\n"
     ]
    }
   ],
   "source": [
    "for x in thisdict:\n",
    "    print(thisdict[x])"
   ]
  },
  {
   "cell_type": "code",
   "execution_count": 133,
   "metadata": {
    "colab": {
     "base_uri": "https://localhost:8080/",
     "height": 0
    },
    "colab_type": "code",
    "executionInfo": {
     "elapsed": 2229,
     "status": "ok",
     "timestamp": 1566738914828,
     "user": {
      "displayName": "Vinícius dos Santos Mello",
      "photoUrl": "https://lh3.googleusercontent.com/a-/AAuE7mCMU92CTJ8r37k0XpDTP5FIq6pAXFbhzP4zCo7K=s64",
      "userId": "08722001442659770764"
     },
     "user_tz": 180
    },
    "id": "HBtPZo5T3bkC",
    "outputId": "475edffc-ba25-45f7-9156-188280ab15fd"
   },
   "outputs": [
    {
     "name": "stdout",
     "output_type": "stream",
     "text": [
      "Ford\n",
      "Mustang\n",
      "2018\n"
     ]
    }
   ],
   "source": [
    "for x in thisdict.values():\n",
    "    print(x)"
   ]
  },
  {
   "cell_type": "code",
   "execution_count": 134,
   "metadata": {
    "colab": {
     "base_uri": "https://localhost:8080/",
     "height": 0
    },
    "colab_type": "code",
    "executionInfo": {
     "elapsed": 2219,
     "status": "ok",
     "timestamp": 1566738914835,
     "user": {
      "displayName": "Vinícius dos Santos Mello",
      "photoUrl": "https://lh3.googleusercontent.com/a-/AAuE7mCMU92CTJ8r37k0XpDTP5FIq6pAXFbhzP4zCo7K=s64",
      "userId": "08722001442659770764"
     },
     "user_tz": 180
    },
    "id": "NgxRXTUb3bkT",
    "outputId": "44b9aa08-bf0a-4d10-c0d1-e312e41c4c96"
   },
   "outputs": [
    {
     "name": "stdout",
     "output_type": "stream",
     "text": [
      "brand Ford\n",
      "model Mustang\n",
      "year 2018\n"
     ]
    }
   ],
   "source": [
    "for x, y in thisdict.items():\n",
    "    print(x, y)"
   ]
  },
  {
   "cell_type": "code",
   "execution_count": 135,
   "metadata": {
    "colab": {
     "base_uri": "https://localhost:8080/",
     "height": 0
    },
    "colab_type": "code",
    "executionInfo": {
     "elapsed": 2196,
     "status": "ok",
     "timestamp": 1566738914837,
     "user": {
      "displayName": "Vinícius dos Santos Mello",
      "photoUrl": "https://lh3.googleusercontent.com/a-/AAuE7mCMU92CTJ8r37k0XpDTP5FIq6pAXFbhzP4zCo7K=s64",
      "userId": "08722001442659770764"
     },
     "user_tz": 180
    },
    "id": "A2VOWrXA3bki",
    "outputId": "2fe8873e-478c-44f3-af6a-0c761118d5d4"
   },
   "outputs": [
    {
     "name": "stdout",
     "output_type": "stream",
     "text": [
      "Yes, 'model' is one of the keys in the thisdict dictionary\n"
     ]
    }
   ],
   "source": [
    "thisdict =\t{\n",
    "  \"brand\": \"Ford\",\n",
    "  \"model\": \"Mustang\",\n",
    "  \"year\": 1964\n",
    "}\n",
    "if \"model\" in thisdict:\n",
    "    print(\"Yes, 'model' is one of the keys in the thisdict dictionary\")"
   ]
  },
  {
   "cell_type": "code",
   "execution_count": 136,
   "metadata": {
    "colab": {
     "base_uri": "https://localhost:8080/",
     "height": 0
    },
    "colab_type": "code",
    "executionInfo": {
     "elapsed": 2185,
     "status": "ok",
     "timestamp": 1566738914838,
     "user": {
      "displayName": "Vinícius dos Santos Mello",
      "photoUrl": "https://lh3.googleusercontent.com/a-/AAuE7mCMU92CTJ8r37k0XpDTP5FIq6pAXFbhzP4zCo7K=s64",
      "userId": "08722001442659770764"
     },
     "user_tz": 180
    },
    "id": "XwMUZlTd3bkx",
    "outputId": "fc4c3e7b-8dc1-4b88-ffa0-051153f78962"
   },
   "outputs": [
    {
     "name": "stdout",
     "output_type": "stream",
     "text": [
      "3\n"
     ]
    }
   ],
   "source": [
    "print(len(thisdict))"
   ]
  },
  {
   "cell_type": "code",
   "execution_count": 137,
   "metadata": {
    "colab": {
     "base_uri": "https://localhost:8080/",
     "height": 0
    },
    "colab_type": "code",
    "executionInfo": {
     "elapsed": 2173,
     "status": "ok",
     "timestamp": 1566738914839,
     "user": {
      "displayName": "Vinícius dos Santos Mello",
      "photoUrl": "https://lh3.googleusercontent.com/a-/AAuE7mCMU92CTJ8r37k0XpDTP5FIq6pAXFbhzP4zCo7K=s64",
      "userId": "08722001442659770764"
     },
     "user_tz": 180
    },
    "id": "Pa3JBvze3blJ",
    "outputId": "74666b5f-0334-4d16-b9ba-84d80b41349b"
   },
   "outputs": [
    {
     "name": "stdout",
     "output_type": "stream",
     "text": [
      "{'brand': 'Ford', 'model': 'Mustang', 'year': 1964, 'color': 'red'}\n"
     ]
    }
   ],
   "source": [
    "thisdict =\t{\n",
    "  \"brand\": \"Ford\",\n",
    "  \"model\": \"Mustang\",\n",
    "  \"year\": 1964\n",
    "}\n",
    "thisdict[\"color\"] = \"red\"\n",
    "print(thisdict)"
   ]
  },
  {
   "cell_type": "code",
   "execution_count": 138,
   "metadata": {
    "colab": {
     "base_uri": "https://localhost:8080/",
     "height": 0
    },
    "colab_type": "code",
    "executionInfo": {
     "elapsed": 2166,
     "status": "ok",
     "timestamp": 1566738914850,
     "user": {
      "displayName": "Vinícius dos Santos Mello",
      "photoUrl": "https://lh3.googleusercontent.com/a-/AAuE7mCMU92CTJ8r37k0XpDTP5FIq6pAXFbhzP4zCo7K=s64",
      "userId": "08722001442659770764"
     },
     "user_tz": 180
    },
    "id": "skgBaenl3blj",
    "outputId": "f0962c03-33ba-4066-9813-1d389e5f38a7"
   },
   "outputs": [
    {
     "name": "stdout",
     "output_type": "stream",
     "text": [
      "{'brand': 'Ford', 'year': 1964}\n"
     ]
    }
   ],
   "source": [
    "thisdict =\t{\n",
    "  \"brand\": \"Ford\",\n",
    "  \"model\": \"Mustang\",\n",
    "  \"year\": 1964\n",
    "}\n",
    "thisdict.pop(\"model\")\n",
    "print(thisdict)"
   ]
  },
  {
   "cell_type": "code",
   "execution_count": 139,
   "metadata": {
    "colab": {
     "base_uri": "https://localhost:8080/",
     "height": 0
    },
    "colab_type": "code",
    "executionInfo": {
     "elapsed": 2155,
     "status": "ok",
     "timestamp": 1566738914852,
     "user": {
      "displayName": "Vinícius dos Santos Mello",
      "photoUrl": "https://lh3.googleusercontent.com/a-/AAuE7mCMU92CTJ8r37k0XpDTP5FIq6pAXFbhzP4zCo7K=s64",
      "userId": "08722001442659770764"
     },
     "user_tz": 180
    },
    "id": "fyKry5gH3bmZ",
    "outputId": "df527eee-54c6-4d18-a207-f5af14419eb7"
   },
   "outputs": [
    {
     "name": "stdout",
     "output_type": "stream",
     "text": [
      "{'brand': 'Ford', 'model': 'Mustang'}\n"
     ]
    }
   ],
   "source": [
    "thisdict =\t{\n",
    "  \"brand\": \"Ford\",\n",
    "  \"model\": \"Mustang\",\n",
    "  \"year\": 1964\n",
    "}\n",
    "thisdict.popitem()\n",
    "print(thisdict)"
   ]
  },
  {
   "cell_type": "markdown",
   "metadata": {
    "colab_type": "text",
    "id": "zPtcZ0O-3bm2"
   },
   "source": [
    "### Funções"
   ]
  },
  {
   "cell_type": "code",
   "execution_count": null,
   "metadata": {
    "colab": {},
    "colab_type": "code",
    "id": "kVapczXI3bm7"
   },
   "outputs": [],
   "source": [
    "def my_function():\n",
    "    print(\"Hello from a function\")"
   ]
  },
  {
   "cell_type": "code",
   "execution_count": 141,
   "metadata": {
    "colab": {
     "base_uri": "https://localhost:8080/",
     "height": 34
    },
    "colab_type": "code",
    "executionInfo": {
     "elapsed": 2127,
     "status": "ok",
     "timestamp": 1566738914855,
     "user": {
      "displayName": "Vinícius dos Santos Mello",
      "photoUrl": "https://lh3.googleusercontent.com/a-/AAuE7mCMU92CTJ8r37k0XpDTP5FIq6pAXFbhzP4zCo7K=s64",
      "userId": "08722001442659770764"
     },
     "user_tz": 180
    },
    "id": "WBWZmh6n3bn1",
    "outputId": "7ee0c8cf-94ed-4b8d-bbb4-15418a705b64"
   },
   "outputs": [
    {
     "name": "stdout",
     "output_type": "stream",
     "text": [
      "Hello from a function\n"
     ]
    }
   ],
   "source": [
    "my_function()"
   ]
  },
  {
   "cell_type": "markdown",
   "metadata": {
    "colab_type": "text",
    "id": "DqkWMImL3boL"
   },
   "source": [
    "Uma função lambda é uma pequena função não definida.\n",
    "\n",
    "Uma função lambda pode receber qualquer número de argumentos, mas só pode ter uma expressão.\n",
    "\n",
    "\n",
    "```lambda arguments : expression```"
   ]
  },
  {
   "cell_type": "code",
   "execution_count": 142,
   "metadata": {
    "colab": {
     "base_uri": "https://localhost:8080/",
     "height": 34
    },
    "colab_type": "code",
    "executionInfo": {
     "elapsed": 2112,
     "status": "ok",
     "timestamp": 1566738914856,
     "user": {
      "displayName": "Vinícius dos Santos Mello",
      "photoUrl": "https://lh3.googleusercontent.com/a-/AAuE7mCMU92CTJ8r37k0XpDTP5FIq6pAXFbhzP4zCo7K=s64",
      "userId": "08722001442659770764"
     },
     "user_tz": 180
    },
    "id": "9x6GHA4d3boP",
    "outputId": "8d6bc596-eb04-4884-d89d-524d530c75b4"
   },
   "outputs": [
    {
     "name": "stdout",
     "output_type": "stream",
     "text": [
      "15\n"
     ]
    }
   ],
   "source": [
    "x = lambda a : a + 10\n",
    "print(x(5))"
   ]
  },
  {
   "cell_type": "code",
   "execution_count": 143,
   "metadata": {
    "colab": {
     "base_uri": "https://localhost:8080/",
     "height": 34
    },
    "colab_type": "code",
    "executionInfo": {
     "elapsed": 2100,
     "status": "ok",
     "timestamp": 1566738914859,
     "user": {
      "displayName": "Vinícius dos Santos Mello",
      "photoUrl": "https://lh3.googleusercontent.com/a-/AAuE7mCMU92CTJ8r37k0XpDTP5FIq6pAXFbhzP4zCo7K=s64",
      "userId": "08722001442659770764"
     },
     "user_tz": 180
    },
    "id": "Mz-3fBmG3bod",
    "outputId": "99e2ea36-4238-4a0b-e38a-83330a63b86c"
   },
   "outputs": [
    {
     "name": "stdout",
     "output_type": "stream",
     "text": [
      "13\n"
     ]
    }
   ],
   "source": [
    "x = lambda a, b, c : a + b + c\n",
    "print(x(5, 6, 2))"
   ]
  },
  {
   "cell_type": "code",
   "execution_count": 144,
   "metadata": {
    "colab": {
     "base_uri": "https://localhost:8080/",
     "height": 34
    },
    "colab_type": "code",
    "executionInfo": {
     "elapsed": 2085,
     "status": "ok",
     "timestamp": 1566738914862,
     "user": {
      "displayName": "Vinícius dos Santos Mello",
      "photoUrl": "https://lh3.googleusercontent.com/a-/AAuE7mCMU92CTJ8r37k0XpDTP5FIq6pAXFbhzP4zCo7K=s64",
      "userId": "08722001442659770764"
     },
     "user_tz": 180
    },
    "id": "ip4Sh8Vf3bo8",
    "outputId": "754c2de2-a169-40a9-d374-5a4b2f04e01f"
   },
   "outputs": [
    {
     "name": "stdout",
     "output_type": "stream",
     "text": [
      "2019-08-25 13:15:13.902618\n"
     ]
    }
   ],
   "source": [
    "import datetime\n",
    "\n",
    "x = datetime.datetime.now()\n",
    "print(x)"
   ]
  }
 ],
 "metadata": {
  "colab": {
   "collapsed_sections": [
    "qniD_TFv3a-a",
    "pgvR2b2x3bMV",
    "qXzt7WWC3bOp",
    "_YO4OgTa3bVO"
   ],
   "name": "Introdução ao Python.ipynb",
   "provenance": [],
   "version": "0.3.2"
  },
  "kernelspec": {
   "display_name": "Python 3",
   "language": "python",
   "name": "python3"
  },
  "language_info": {
   "codemirror_mode": {
    "name": "ipython",
    "version": 3
   },
   "file_extension": ".py",
   "mimetype": "text/x-python",
   "name": "python",
   "nbconvert_exporter": "python",
   "pygments_lexer": "ipython3",
   "version": "3.7.3"
  }
 },
 "nbformat": 4,
 "nbformat_minor": 4
}
